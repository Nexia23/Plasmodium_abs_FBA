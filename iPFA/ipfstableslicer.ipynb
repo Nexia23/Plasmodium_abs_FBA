{
 "cells": [
  {
   "cell_type": "markdown",
   "metadata": {},
   "source": [
    "# Slice iPFA table\n",
    "### make substrate and product columns\n",
    "### find compound numbers\n"
   ]
  },
  {
   "cell_type": "code",
   "execution_count": 1,
   "metadata": {},
   "outputs": [],
   "source": [
    "import pandas as pd\n",
    "import numpy as np\n",
    "from bioservices import KEGG\n",
    "import bioservices\n",
    "\n"
   ]
  },
  {
   "cell_type": "code",
   "execution_count": 2,
   "metadata": {},
   "outputs": [],
   "source": [
    "table = pd.read_excel('ipfa_raven_input.xlsx', header=0)"
   ]
  },
  {
   "cell_type": "code",
   "execution_count": 21,
   "metadata": {},
   "outputs": [
    {
     "data": {
      "text/plain": [
       "['R01324_c',\n",
       " 'R01325_c',\n",
       " 'R01326_c',\n",
       " 'R01354_c',\n",
       " 'R01378_c',\n",
       " 'R01397_c',\n",
       " 'R01321_r',\n",
       " 'R01324_m',\n",
       " 'R01325_m',\n",
       " 'R01315_c',\n",
       " 'R01321_c',\n",
       " 'R01317_c',\n",
       " 'R01397_R01993_c']"
      ]
     },
     "execution_count": 21,
     "metadata": {},
     "output_type": "execute_result"
    }
   ],
   "source": [
    "[x for x in table.ID if 'R013' in x]    "
   ]
  },
  {
   "cell_type": "code",
   "execution_count": 3,
   "metadata": {},
   "outputs": [],
   "source": [
    "# these are the 'subsytems' we want to concentrate on, list not complete\n",
    "subsystems = ['Fatty acid degradation', 'Glycerophospholipid metabolism',\n",
    "              'Glycerolipid metabolism', 'Ether lipid metabolism', 'N-Glycan biosynthesis',\n",
    "              'Lipoic acid metabolism', 'Phosphonate and phosphinate metabolism',\n",
    "              'Sphingolipid metabolism', 'Fatty acid metabolism / biotin (vit B7) dependent',\n",
    "              'Fatty acid metabolism', 'Isoprenoid metabolism', 'Steroid metabolism',\n",
    "              'Glycosylphosphatidylinositol(GPI)-anchor biosynthesis']\n",
    "\n",
    "table = table.loc[:, 'ID':] # cut empty column\n",
    "table = table[table['SUBSYSTEM'].isin(subsystems)] # select only rows with right subsystem"
   ]
  },
  {
   "cell_type": "code",
   "execution_count": 4,
   "metadata": {},
   "outputs": [],
   "source": [
    "substrates = []\n",
    "products = []"
   ]
  },
  {
   "cell_type": "code",
   "execution_count": 5,
   "metadata": {},
   "outputs": [],
   "source": [
    "def splitandstrip(string): # for formatting our lists\n",
    "    whitespacelist = string.split(' + ')\n",
    "    nowhitespacelist = []\n",
    "    for word in whitespacelist:\n",
    "        y = word.strip()\n",
    "        nowhitespacelist.append(y)\n",
    "    return nowhitespacelist  # which is now a list of stripped strings"
   ]
  },
  {
   "cell_type": "code",
   "execution_count": 6,
   "metadata": {},
   "outputs": [],
   "source": [
    "for eq in table['EQUATION']:  # splitting equations into substrates and products\n",
    "    streq = str(eq)\n",
    "    subs, prods = streq.split(' <=> ')\n",
    "    substrates.append(str(splitandstrip(subs)).replace('\\'', '')[1:-1])\n",
    "    #substrates.append([str(splitandstrip(subs)).replace('\\'', '')[1:-1]])  # prints as x, y, z instead of ['x', 'y' etc\n",
    "    products.append(str(splitandstrip(prods)).replace('\\'', '')[1:-1])\n"
   ]
  },
  {
   "cell_type": "code",
   "execution_count": 7,
   "metadata": {},
   "outputs": [],
   "source": [
    "# make reaction names without compartment suffix\n",
    "reactions = []\n",
    "for r in table['ID']:  # works\n",
    "    if len(r) != 8:\n",
    "        reactions.append('not 1 reaction')\n",
    "    else:\n",
    "        reactions.append(r[:-2])"
   ]
  },
  {
   "cell_type": "code",
   "execution_count": 8,
   "metadata": {},
   "outputs": [],
   "source": [
    "table['REACTIONID'] = reactions # insert new values\n",
    "table['SUBSTRATES'] = substrates\n",
    "table['PRODUCTS'] = products\n"
   ]
  },
  {
   "cell_type": "code",
   "execution_count": 9,
   "metadata": {},
   "outputs": [],
   "source": [
    "k = KEGG()"
   ]
  },
  {
   "cell_type": "code",
   "execution_count": 21,
   "metadata": {},
   "outputs": [],
   "source": [
    "a = k.find('glycan', 'G00001')"
   ]
  },
  {
   "cell_type": "code",
   "execution_count": 32,
   "metadata": {},
   "outputs": [],
   "source": [
    "import urllib.request\n",
    "\n",
    "uf = urllib.request.urlopen(\"http://rest.kegg.jp/get/G00001\")\n",
    "html = uf.read()\n",
    "html = html.decode('UTF-8')"
   ]
  },
  {
   "cell_type": "code",
   "execution_count": 33,
   "metadata": {},
   "outputs": [
    {
     "name": "stdout",
     "output_type": "stream",
     "text": [
      "ENTRY       G00001                      Glycan\n",
      "NAME        N-Acetyl-D-glucosaminyldiphosphodolichol\n",
      "COMPOSITION (GlcNAc)1 (PP-Dol)1\n",
      "MASS        203.2 (PP-Dol)\n",
      "REMARK      Same as: C04500\n",
      "REACTION    R05969 R05970\n",
      "PATHWAY     map00510  N-Glycan biosynthesis\n",
      "            map01100  Metabolic pathways\n",
      "MODULE      M00055  N-glycan precursor biosynthesis\n",
      "ENZYME      2.4.1.141       2.7.8.15\n",
      "ORTHOLOGY   K01001  UDP-N-acetylglucosamine--dolichyl-phosphate N-acetylglucosaminephosphotransferase [EC:2.7.8.15]\n",
      "BRITE       Lipids [BR:br08002]\n",
      "             PR  Prenol Lipids\n",
      "              PR03 Polyprenols\n",
      "               PR0309 Dolichol diphosphates\n",
      "                C04500  N-Acetyl-D-glucosaminyldiphosphodolichol\n",
      "DBLINKS     CCSD: 31775 36270 40495\n",
      "            GlyTouCan: G68544GH\n",
      "            JCGGDB: JCGG-STR008690\n",
      "NODE        2\n",
      "            1   PP-Dol      3     0\n",
      "            2   GlcNAc     -4     0\n",
      "EDGE        1\n",
      "            1     2:a1    1    \n",
      "///\n",
      "\n"
     ]
    }
   ],
   "source": [
    "print(html)"
   ]
  },
  {
   "cell_type": "code",
   "execution_count": 39,
   "metadata": {},
   "outputs": [
    {
     "name": "stdout",
     "output_type": "stream",
     "text": [
      "['ENTRY', 'G00001', 'Glycan', 'NAME', 'N-Acetyl-D-glucosaminyldiphosphodolichol', 'COMPOSITION', '(GlcNAc)1', '(PP-Dol)1', 'MASS', '203.2', '(PP-Dol)', 'REMARK', 'Same', 'as:', 'C04500', 'REACTION', 'R05969', 'R05970', 'PATHWAY', 'map00510', 'N-Glycan', 'biosynthesis', 'map01100', 'Metabolic', 'pathways', 'MODULE', 'M00055', 'N-glycan', 'precursor', 'biosynthesis', 'ENZYME', '2.4.1.141', '2.7.8.15', 'ORTHOLOGY', 'K01001', 'UDP-N-acetylglucosamine--dolichyl-phosphate', 'N-acetylglucosaminephosphotransferase', '[EC:2.7.8.15]', 'BRITE', 'Lipids', '[BR:br08002]', 'PR', 'Prenol', 'Lipids', 'PR03', 'Polyprenols', 'PR0309', 'Dolichol', 'diphosphates', 'C04500', 'N-Acetyl-D-glucosaminyldiphosphodolichol', 'DBLINKS', 'CCSD:', '31775', '36270', '40495', 'GlyTouCan:', 'G68544GH', 'JCGGDB:', 'JCGG-STR008690', 'NODE', '2', '1', 'PP-Dol', '3', '0', '2', 'GlcNAc', '-4', '0', 'EDGE', '1', '1', '2:a1', '1', '///']\n"
     ]
    }
   ],
   "source": [
    "x = html.split()\n",
    "print(x)"
   ]
  },
  {
   "cell_type": "code",
   "execution_count": 40,
   "metadata": {},
   "outputs": [
    {
     "name": "stdout",
     "output_type": "stream",
     "text": [
      "C04500\n"
     ]
    }
   ],
   "source": [
    "y = x[x.index('as:')+1]\n",
    "print(y)"
   ]
  },
  {
   "cell_type": "code",
   "execution_count": null,
   "metadata": {},
   "outputs": [],
   "source": []
  }
 ],
 "metadata": {
  "kernelspec": {
   "display_name": "tellur",
   "language": "python",
   "name": "tellur"
  },
  "language_info": {
   "codemirror_mode": {
    "name": "ipython",
    "version": 3
   },
   "file_extension": ".py",
   "mimetype": "text/x-python",
   "name": "python",
   "nbconvert_exporter": "python",
   "pygments_lexer": "ipython3",
   "version": "3.6.10"
  }
 },
 "nbformat": 4,
 "nbformat_minor": 2
}
