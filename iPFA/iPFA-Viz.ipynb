{
 "cells": [
  {
   "cell_type": "code",
   "execution_count": 1,
   "metadata": {},
   "outputs": [],
   "source": [
    "import escher\n",
    "import cobra\n",
    "import pandas as pd\n",
    "ipfa = cobra.io.load_json_model('test.json')"
   ]
  },
  {
   "cell_type": "code",
   "execution_count": null,
   "metadata": {},
   "outputs": [],
   "source": [
    "reactionstable = pd.read_csv('/home/maxim/first-lipid-model/odemodel/reactions.csv', header=0)\n",
    "table = pd.read_excel('ipfa_raven_input.xlsx', header=0)"
   ]
  },
  {
   "cell_type": "code",
   "execution_count": null,
   "metadata": {},
   "outputs": [],
   "source": [
    "ipfarid = [reactionid[:] for reactionid in table['ID']]#\n",
    "modelsrid = list(reactionstable['ID'])\n",
    "#check if model ids are in iPFA reaction ids since they are shortend\n",
    "nmatching = [reaction for reaction in ipfarid if not any(modelid in reaction for modelid in modelsrid)]\n",
    "nmatching"
   ]
  },
  {
   "cell_type": "code",
   "execution_count": null,
   "metadata": {},
   "outputs": [],
   "source": [
    "from d3flux import flux_map\n",
    "new_model = ipfa\n",
    "new_model.optimize()\n",
    "\n",
    "flux_map(new_model, excluded_reactions = nmatching , figsize=(4900,2900))"
   ]
  },
  {
   "cell_type": "code",
   "execution_count": 2,
   "metadata": {},
   "outputs": [
    {
     "data": {
      "application/vnd.jupyter.widget-view+json": {
       "model_id": "91c0fb2935164006af3720c303f5708b",
       "version_major": 2,
       "version_minor": 0
      },
      "text/plain": [
       "Builder(hide_secondary_metabolites=True, never_ask_before_quit=True, reaction_data={'R00021_c': 0.0, 'R00086_c…"
      ]
     },
     "execution_count": 2,
     "metadata": {},
     "output_type": "execute_result"
    }
   ],
   "source": [
    "from escher import Builder\n",
    "escher.rc['never_ask_before_quit'] = True\n",
    "builder = Builder(model = ipfa)\n",
    "solution = builder.model.optimize()\n",
    "builder.reaction_data = solution.fluxes\n",
    "builder.hide_secondary_metabolites = True\n",
    "builder"
   ]
  }
 ],
 "metadata": {
  "kernelspec": {
   "display_name": "Python 3 (ipykernel)",
   "language": "python",
   "name": "python3"
  },
  "language_info": {
   "codemirror_mode": {
    "name": "ipython",
    "version": 3
   },
   "file_extension": ".py",
   "mimetype": "text/x-python",
   "name": "python",
   "nbconvert_exporter": "python",
   "pygments_lexer": "ipython3",
   "version": "3.10.6"
  }
 },
 "nbformat": 4,
 "nbformat_minor": 4
}
