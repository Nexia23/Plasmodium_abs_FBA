{
 "cells": [
  {
   "cell_type": "code",
   "execution_count": null,
   "metadata": {},
   "outputs": [],
   "source": [
    "# import the package \n",
    "import cobra\n",
    "#import cobra.test\n",
    "import pandas as pd\n",
    "import numpy as np\n",
    "import requests\n",
    "pd.options.display.max_rows = 4000\n",
    "from matplotlib import pyplot as plt\n",
    "plt.style.use('ggplot')"
   ]
  },
  {
   "cell_type": "code",
   "execution_count": null,
   "metadata": {
    "scrolled": true
   },
   "outputs": [],
   "source": [
    "ipfa = cobra.io.load_matlab_model(\"ipfa.mat\")"
   ]
  },
  {
   "cell_type": "code",
   "execution_count": null,
   "metadata": {},
   "outputs": [],
   "source": [
    "cobra.io.save_json_model(ipfa,'ipfa_json_test.json')"
   ]
  },
  {
   "cell_type": "code",
   "execution_count": null,
   "metadata": {},
   "outputs": [],
   "source": [
    "print(ipfa.objective.expression)"
   ]
  },
  {
   "cell_type": "code",
   "execution_count": null,
   "metadata": {},
   "outputs": [],
   "source": [
    "exchange_rxns = [exchange.id for exchange in ipfa.exchanges] # find exchange reactions\n",
    "len(exchange_rxns)"
   ]
  },
  {
   "cell_type": "code",
   "execution_count": null,
   "metadata": {},
   "outputs": [],
   "source": [
    "ipfa.reactions.EXC_BOTH_C00062_e"
   ]
  },
  {
   "cell_type": "code",
   "execution_count": null,
   "metadata": {},
   "outputs": [],
   "source": [
    "ipfa.compartments"
   ]
  },
  {
   "cell_type": "code",
   "execution_count": null,
   "metadata": {
    "scrolled": false
   },
   "outputs": [],
   "source": [
    "# find all substrates of the reaction\n",
    "biomets = ipfa.reactions.Biomass_rxn_c.metabolites #r_4041 = biomassreaction 8\n",
    "\n",
    "s = list(biomets.values()) #stoichiometry of the metabolites in the reaction\n",
    "m = list(biomets.keys()) # ID of the metabolite in the reaction\n",
    "\n",
    "# print a table of metabolites and their stoichiometry\n",
    "\n",
    "metname = [mi.name for mi in m]# names of the metabolite in the reaction\n",
    "\n",
    "# table printing (this is very messy)\n",
    "\n",
    "biomass = pd.DataFrame.from_records(map(list, zip(*[m,metname,s])),columns=['ID', 'metabolite','stoichiometry'])\n",
    "biomass.sort_values(by='metabolite', ascending='False')"
   ]
  },
  {
   "cell_type": "code",
   "execution_count": null,
   "metadata": {},
   "outputs": [],
   "source": [
    "import re\n",
    "\n",
    "def kegg_to_bigg(kegg_id):\n",
    "    # Make the request to the BiGG API\n",
    "    response = requests.post('http://bigg.ucsd.edu/advanced_search_external_id_results',\n",
    "                            data={'database_source': 'kegg.compound', 'query': kegg_id})\n",
    "    # Check if the request was successful\n",
    "    if response.status_code == 200:\n",
    "        try:\n",
    "            print(re.search(r'/models/universal/metabolites/([^\"]+)', response.text).group(1))\n",
    "        except AttributeError:\n",
    "            print('no result')\n",
    "            print(kegg_id)\n",
    "    else:\n",
    "        print('Error:', response.status_code)\n",
    "for metabolite in biomass.ID:\n",
    "    id = metabolite.id[:-2]\n",
    "    kegg_to_bigg(id)"
   ]
  },
  {
   "cell_type": "code",
   "execution_count": null,
   "metadata": {},
   "outputs": [],
   "source": [
    "\n",
    "'''\n",
    "cobra.flux_analysis.pfba(model: cobra.Model, fraction_of_optimum: float = 1.0, objective: Union[Dict, optlang.interface.Objective, None] = None, reactions: Optional[List[cobra.Reaction]] = None) → cobra.Solution\n",
    "minimizes overall fluxes\n",
    "'''\n",
    "opt = ipfa.optimize()\n",
    "lethal = 0\n",
    "frac = opt.objective_value * 0.9\n"
   ]
  },
  {
   "cell_type": "code",
   "execution_count": null,
   "metadata": {},
   "outputs": [],
   "source": [
    "ipfa.metabolites.C00641_c"
   ]
  },
  {
   "cell_type": "code",
   "execution_count": null,
   "metadata": {},
   "outputs": [],
   "source": [
    "ipfa.reactions.R02687_c"
   ]
  },
  {
   "cell_type": "code",
   "execution_count": null,
   "metadata": {},
   "outputs": [],
   "source": [
    "'''\n",
    "ipfa extra lipids in biomass\n",
    "\n",
    "Neutral: cardiolipin, 1,2 diacyl-gycerol,\n",
    "Fatty acids: Octadecanoic acid, Hexadecanoic acid, (9Z)-Octadecenoic acid, Tetradecanoic acid\n",
    "'''\n",
    "lipids = ['Cholesterol','Phosphatidylcholine','Phosphatidylserine','Phosphatidylethanolamine','Sphingomyelin','Triacylglycerol']\n",
    "all_lps = ['cardiolipin','1,2 diacyl-gycerol','Octadecanoic acid','Hexadecanoic acid', '(9Z)-Octadecenoic acid', 'Tetradecanoic acid']\n",
    "lipid_df = biomass.loc[biomass['metabolite'].isin(lipids)]\n",
    "lipid_df"
   ]
  },
  {
   "cell_type": "code",
   "execution_count": null,
   "metadata": {},
   "outputs": [],
   "source": [
    "# first  value % of total lipids containing a lipid(PLs, SM, Cholesterol, Neutral)\n",
    "# 45.7*58.4 is 45.7% phospholipids of total lipid amount times 58.4% of PC in PLs\n",
    "# divided by 100 to have %\n",
    "# values % of specific lipid during this stage of total lipid amount\n",
    "newlipid_df = lipid_df.assign(  Ring=[45.7*58.4/100,45.7*33.2/100,45.7*7.7/100,14.0,32.4,7.9*20.4/100])\n",
    "newlipid_df = newlipid_df.assign(  Trophozoite=[60.1*59.8/100,60.1*28.7/100,60.1*9.1/100,8.0,22.0,10.0*17.5/100])\n",
    "newlipid_df = newlipid_df.assign(  Schizont=[69.1*66.4/100,69.1*24.8/100,69.1*5.0/100,12.5,4.1,33.0*14.2/100])\n",
    "\n",
    "from matplotlib.pyplot import cm\n",
    "\n",
    "phases = ['Ring', 'Trophozoite', 'Schizont']\n",
    "\n",
    "fig, ax = plt.subplots(figsize=(15,10))\n",
    "color=iter(cm.rainbow(np.linspace(0,1,len(phases))))\n",
    "\n",
    "for phase in phases:\n",
    "    newlipid_df[phase] = newlipid_df[phase]/newlipid_df[phase].sum()*newlipid_df.stoichiometry.sum()\n",
    "    c=next(color)\n",
    "    if phase == 'Trophozoite':\n",
    "        for i, txt in enumerate(newlipid_df['metabolite']):\n",
    "            ax.annotate(txt, xy=(newlipid_df['stoichiometry'].iat[i], newlipid_df[phase].iat[i]))\n",
    "    ax = newlipid_df.plot.scatter(x='stoichiometry', y = phase, color=c, label=phase, s=50, ax=ax)\n",
    "plt.ylabel('Phases value')"
   ]
  },
  {
   "cell_type": "code",
   "execution_count": null,
   "metadata": {},
   "outputs": [],
   "source": [
    "newlipid_df"
   ]
  },
  {
   "cell_type": "code",
   "execution_count": null,
   "metadata": {},
   "outputs": [],
   "source": [
    "#get id from weird reaction datatype(frozenset)\n",
    "def id_rct_conv(x):\n",
    "    st = str(x)\n",
    "    lst = st.split(',')\n",
    "    react = []\n",
    "    for e in lst:\n",
    "        start = e.find('Reaction ')\n",
    "        end = e.find(' at')\n",
    "        e = e[start+len('Reaction '):end]\n",
    "        react.append(e)\n",
    "    return(react)\n",
    "\n",
    "# get names of metabolites involved in reaction\n",
    "def get_metas_rxn(rxn):\n",
    "    biomets = ipfa.reactions.get_by_id(rxn).metabolites\n",
    "\n",
    "    m = list(biomets.keys()) # ID of the metabolite in the reaction\n",
    "    metname = [mi.name for mi in m] # names of the metabolite in the reaction\n",
    "    return metname\n",
    "\n",
    "# get id of metabolites involved in reaction\n",
    "def get_id_metas_rxn(rxn):\n",
    "    biomets = ipfa.reactions.get_by_id(rxn).metabolites\n",
    "\n",
    "    m = list(biomets.keys()) # ID of the metabolite in the reaction\n",
    "    return m\n",
    "\n",
    "\n",
    "#get actual names of reactions(names) for list of reaction ids(x)\n",
    "def nme_rct_lst(x):\n",
    "    names = []\n",
    "    for val in x:\n",
    "        name=str(val)\n",
    "        names.append(ipfa.reactions.get_by_id(name).name)\n",
    "        \n",
    "    return names   \n",
    "\n",
    "#get actual fluxes of reactions(names) for list of reaction ids(x)\n",
    "def flux_rct_lst(x):\n",
    "    fluxes = []\n",
    "    for val in x:\n",
    "        fl=str(val)\n",
    "        fluxes.append(ipfa.reactions.get_by_id(fl).flux)\n",
    "        \n",
    "    return fluxes   \n",
    "\n",
    "#get all reactions(ID,name) in which metabolite(x) is involved converted to panda table\n",
    "def print_reactions(x):\n",
    "    b = ipfa.metabolites.get_by_id(x).reactions\n",
    "\n",
    "    idnme = id_rct_conv(b)\n",
    "    nm = nme_rct_lst(idnme)\n",
    "    \n",
    "    # table returning (this is very messy)\n",
    "    import pandas as pd\n",
    "    df = pd.DataFrame.from_records(map(list, zip(*[idnme,nm])),columns=['ID', 'name'])\n",
    "    return df\n",
    "\n",
    "#get all reactions(ID,name) with its corresponding flux in which metabolite(x) is involved converted to panda table\n",
    "def print_rct_wth_flux(x):\n",
    "    b = ipfa.metabolites.get_by_id(x).reactions\n",
    "    idnme = id_rct_conv(b)\n",
    "    nm = nme_rct_lst(idnme)\n",
    "    fls= flux_rct_lst(idnme)\n",
    "    \n",
    "    # table returning (this is very messy)\n",
    "    df = pd.DataFrame.from_records(map(list, zip(*[idnme,nm,fls])),columns=['ID', 'name','flux'])\n",
    "    #create table with reactions that have flux\n",
    "    df = df[df['flux'] > 0]\n",
    "    dna_s = df.dropna( axis=1, how='any')\n",
    "    \n",
    "    return dna_s\n",
    "\n",
    "#get all metabolites involed in ripfa.metabolites.get_by_id('C00269_c').summary()eaction(x) with their stoichometric factor in panda data frame\n",
    "def print_stoich_reaction(x):\n",
    "    # find all substrates of the reaction\n",
    "    biomets = ipfa.reactions.get_by_id(x).metabolites\n",
    "\n",
    "    s = list(biomets.values()) #stoichiometry of the metabolites in the reaction\n",
    "    m = list(biomets.keys()) # ID of the metabolite in the reaction\n",
    "\n",
    "    # a table of metabolites and their stoichiometry\n",
    "\n",
    "    metname = [mi.name for mi in m] # names of the metabolite in the reaction\n",
    "\n",
    "    # panda table creating (this is very messy)\n",
    "    import pandas as pd\n",
    "\n",
    "    df = pd.DataFrame.from_records(map(list, zip(*[m,metname,s])),columns=['ID', 'metabolite','stoichiometry'])\n",
    "    return df\n",
    "\n",
    "def summary_wth_names(print_on=True):\n",
    "    # find all excretion reactions\n",
    "    exrxns = ipfa.exchanges162809\n",
    "    rxnids = [e.id for e in exrxns]\n",
    "\n",
    "    # get values for their bounds\n",
    "    # exrxns[1]oo\n",
    "    # exrxns[1].bounds\n",
    "    b = [e.flux for e in exrxns]  # flux of the reaction\n",
    "    metname = [get_metas_rxn(r) for r in rxnids]  # names of the reaction\n",
    "    metaids = [get_id_metas_rxn(r) for r in rxnids]\n",
    "    # table printing (this is very messy)\n",
    "    df=pd.DataFrame.from_records(map(list, zip(*[metaids,metname,b])),columns=['IDs','Names','flux'])\n",
    "\n",
    "    #out flux sorted\n",
    "    outflux=df[df['flux'] > 0.1E-04]\n",
    "    outflux=outflux.sort_values('flux',ascending=False)\n",
    "    outflux= outflux.reset_index(drop=True)\n",
    "    \n",
    "    #in flux sorted\n",
    "    influx=df[df['flux'] < -0.1E-04]\n",
    "    influx=influx.sort_values('flux',ascending=True)\n",
    "    influx = influx.reset_index(drop=True)\n",
    "    #joining of dataframes\n",
    "    dr=influx.join(outflux,lsuffix='_IN Flux',rsuffix='_OUT Flux')\n",
    "    #make NaN to empty strings\n",
    "    show = dr.replace(np.nan, '', regex=True)\n",
    "    #make two headings out of (Names_IN Flux) Names as sub and IN Flux above\n",
    "    show.columns = pd.MultiIndex.from_tuples([tuple(list(reversed(c.split('_')))) for c in show.columns])\n",
    "    if print_on:\n",
    "        print(show)\n",
    "    return show"
   ]
  },
  {
   "cell_type": "code",
   "execution_count": null,
   "metadata": {},
   "outputs": [],
   "source": [
    "print_rct_wth_flux('C00157_r')"
   ]
  },
  {
   "cell_type": "code",
   "execution_count": null,
   "metadata": {},
   "outputs": [],
   "source": [
    "print_reactions('C00157_r')"
   ]
  },
  {
   "cell_type": "code",
   "execution_count": null,
   "metadata": {},
   "outputs": [],
   "source": [
    "# read file to get all reactions in subsystem of interest\n",
    "table = pd.read_excel('ipfa_raven_input.xlsx', header=0)\n",
    "# these are the 'subsytems' we want to concentrate on, list not complete\n",
    "subsystems = ['Fatty acid degradation', 'Glycerophospholipid metabolism',\n",
    "              'Glycerolipid metabolism', 'Ether lipid metabolism', 'N-Glycan biosynthesis',\n",
    "              'Lipoic acid metabolism', 'Phosphonate and phosphinate metabolism',\n",
    "              'Sphingolipid metabolism', 'Fatty acid metabolism / biotin (vit B7) dependent',\n",
    "              'Fatty acid metabolism', 'Isoprenoid metabolism', 'Steroid metabolism',\n",
    "              'Glycosylphosphatidylinositol(GPI)-anchor biosynthesis']\n",
    "\n",
    "table = table.loc[:, 'ID':] # cut empty column\n",
    "table = table[table['SUBSYSTEM'].isin(subsystems)] # select only rows with right subsystem"
   ]
  },
  {
   "cell_type": "code",
   "execution_count": null,
   "metadata": {
    "scrolled": true
   },
   "outputs": [],
   "source": [
    "table.sort_values(by='ID')"
   ]
  },
  {
   "cell_type": "code",
   "execution_count": null,
   "metadata": {
    "scrolled": false
   },
   "outputs": [],
   "source": [
    "print('complete model: ', ipfa.optimize())\n",
    "summary_wth_names()\n",
    "#look at Oxyhemoglobin path in ipfa"
   ]
  },
  {
   "cell_type": "code",
   "execution_count": null,
   "metadata": {},
   "outputs": [],
   "source": [
    "newlipid_df"
   ]
  },
  {
   "cell_type": "code",
   "execution_count": null,
   "metadata": {
    "scrolled": false
   },
   "outputs": [],
   "source": [
    "# optimize iPFA for different phases and their corrosponding lipid values \n",
    "# stoichiometry is iPFA standard values\n",
    "ex_flux_dict = {}\n",
    "phases = ['stoichiometry', 'Ring', 'Trophozoite', 'Schizont']\n",
    "for phase in phases:\n",
    "    with ipfa:\n",
    "        # loop to create and implement new stoichiometric values\n",
    "        for meta in newlipid_df.ID:\n",
    "            # creat new float value from table\n",
    "            zero = float(newlipid_df.loc[newlipid_df['ID'] == meta]['stoichiometry'])\n",
    "            new_stoich = float(newlipid_df.loc[newlipid_df['ID'] == meta][phase])\n",
    "            # implement new value in biomass function\n",
    "            ipfa.reactions.Biomass_rxn_c.add_metabolites({meta:new_stoich-zero})\n",
    "        \n",
    "        # print solution value and boundary fluxes\n",
    "        print(phase+' model: ', ipfa.optimize().objective_value)\n",
    "\n",
    "        print(ipfa.reactions.Biomass_rxn_c)\n",
    "        # add to lipid-reaction-table the calculated fluxes through them \n",
    "        table[phase + '_Flux'] = flux_rct_lst(table['ID'].tolist())    \n",
    "        \n",
    "        \n",
    "        #for i in newlipid_df.ID:\n",
    "        #    exe='print(ipfa.metabolites.'+ str(i) +'.summary(threshold=0.00002))'\n",
    "        #    exec(exe)\n",
    "        ex_flux_dict[phase] = summary_wth_names(print_on=False)"
   ]
  },
  {
   "cell_type": "code",
   "execution_count": null,
   "metadata": {},
   "outputs": [],
   "source": [
    "phases = ['stoichiometry', 'Ring', 'Trophozoite', 'Schizont']\n",
    "\n",
    "stoich = ex_flux_dict['stoichiometry']['OUT Flux']['flux'][ex_flux_dict['stoichiometry']['OUT Flux']['flux'] != '']\n",
    "\n",
    "out_dataframe = pd.DataFrame()\n",
    "in_dataframe = pd.DataFrame()\n",
    "\n",
    "for current in ['IN','OUT']:\n",
    "    for phase in phases:\n",
    "        mini_frame = pd.DataFrame()\n",
    "        mini_frame[phase +'_Names'] = ex_flux_dict[phase][current+' Flux']['Names'][ex_flux_dict[phase][current+' Flux']['Names'] != '']\n",
    "\n",
    "        for i, name in enumerate(mini_frame[phase +'_Names']):\n",
    "            mini_frame[phase +'_Names'].iloc[i] = name[0]\n",
    "\n",
    "        phase_dataframe = ex_flux_dict[phase][current+' Flux']['flux'][ex_flux_dict[phase][current+' Flux']['flux'] != '']\n",
    "        mini_frame[phase] = phase_dataframe\n",
    "\n",
    "        mini_frame = mini_frame.sort_values(by=phase +'_Names', ascending='False',ignore_index=True)\n",
    "        if current == 'OUT':\n",
    "            out_dataframe = mini_frame.join(out_dataframe, how='outer')\n",
    "        else:\n",
    "            in_dataframe = mini_frame.join(in_dataframe, how='outer')\n",
    "\n",
    "melted_df = out_dataframe.melt(id_vars=['Schizont_Names', 'Trophozoite_Names', 'Ring_Names', 'stoichiometry_Names'],\n",
    "                    value_vars=['Schizont', 'Trophozoite', 'Ring', 'stoichiometry'],\n",
    "                    var_name='Stage',\n",
    "                    value_name='Value')\n",
    "name_list = []\n",
    "for i,stage in enumerate(melted_df['Stage']):\n",
    "    name_list.append(melted_df[stage+'_Names'].iloc[i])\n",
    "melted_df['name']=name_list\n",
    "out_df = melted_df.drop(['Schizont_Names', 'Trophozoite_Names', 'Ring_Names', 'stoichiometry_Names'],axis=1)\n",
    "out_df = out_df.dropna()\n",
    "\n",
    "melted_df = in_dataframe.melt(id_vars=['Schizont_Names', 'Trophozoite_Names', 'Ring_Names', 'stoichiometry_Names'],\n",
    "                    value_vars=['Schizont', 'Trophozoite', 'Ring', 'stoichiometry'],\n",
    "                    var_name='Stage',\n",
    "                    value_name='Value')\n",
    "name_list = []\n",
    "for i,stage in enumerate(melted_df['Stage']):\n",
    "    name_list.append(melted_df[stage+'_Names'].iloc[i])\n",
    "melted_df['name']=name_list\n",
    "in_df = melted_df.drop(['Schizont_Names', 'Trophozoite_Names', 'Ring_Names', 'stoichiometry_Names'],axis=1)\n",
    "in_df = in_df.dropna()"
   ]
  },
  {
   "cell_type": "code",
   "execution_count": null,
   "metadata": {},
   "outputs": [],
   "source": [
    "def plot_dataframe(df, description='',value_str=''):\n",
    "    grouped_df = df.groupby(['name','Stage']).mean().reset_index()\n",
    "    # Create a colormap and markers for the stages\n",
    "    colormap = plt.cm.get_cmap('tab10')\n",
    "    markers =  (\"s\",\"D\",\"^\",\"o\")\n",
    "    marks = iter(markers)\n",
    "\n",
    "    # Plot the scatter plot\n",
    "    fig, ax = plt.subplots(figsize=(7,15))\n",
    "\n",
    "    # Iterate over each stage\n",
    "    for i, stage in enumerate(grouped_df['Stage'].unique()):\n",
    "        stage_data = grouped_df[grouped_df['Stage'] == stage]\n",
    "        ax.scatter(stage_data[value_str+'Value'],stage_data['name'], color=colormap(i), label=stage, marker=next(marks))\n",
    "\n",
    "    # Add labels and title\n",
    "    ax.set_ylabel('Metabolite')\n",
    "    ax.set_xlabel(description+'ward-Flux '+ value_str +' Value')\n",
    "    #ax.set_title('Values by Name with Stage')\n",
    "\n",
    "    # Add a legend\n",
    "    ax.legend(grouped_df['Stage'].unique(), bbox_to_anchor=(0., 1.001, 1., .102), loc=3,ncol=4, mode=\"expand\",fancybox = True, borderaxespad=0.)\n",
    "    # Rotate x-axis labels for better visibility\n",
    "    plt.xticks(rotation=45)\n",
    "\n",
    "    plt.tight_layout()\n",
    "\n",
    "    # Show the plot\n",
    "    plt.show()"
   ]
  },
  {
   "cell_type": "code",
   "execution_count": null,
   "metadata": {},
   "outputs": [],
   "source": [
    "out_df"
   ]
  },
  {
   "cell_type": "code",
   "execution_count": null,
   "metadata": {},
   "outputs": [],
   "source": [
    "plot_dataframe(out_df,'Out')"
   ]
  },
  {
   "cell_type": "code",
   "execution_count": null,
   "metadata": {},
   "outputs": [],
   "source": [
    "## Group the DataFrame by name\n",
    "grouped_df = out_df.groupby(['name'])\n",
    "\n",
    "# Define a function to calculate the relative value\n",
    "def calculate_relative_value(x):\n",
    "    if 'stoichiometry' in x['Stage'].values:\n",
    "        stoichiometry_value = x.loc[x['Stage'] == 'stoichiometry', 'Value'].values[0]\n",
    "        x['Relative_Value'] = x['Value'] / stoichiometry_value\n",
    "    else:\n",
    "        x['Relative_Value'] = 0\n",
    "    return x\n",
    "\n",
    "# Apply the transformation to each group\n",
    "transformed_df = grouped_df.apply(calculate_relative_value)\n",
    "transformed_df.drop('Value',axis=1)\n",
    "\n",
    "plot_dataframe(transformed_df,'Out','Relative_')"
   ]
  },
  {
   "cell_type": "code",
   "execution_count": null,
   "metadata": {},
   "outputs": [],
   "source": [
    "plot_dataframe(in_df,'IN-')"
   ]
  },
  {
   "cell_type": "code",
   "execution_count": null,
   "metadata": {},
   "outputs": [],
   "source": [
    "## Group the DataFrame by name\n",
    "grouped_df = in_df.groupby(['name'])\n",
    "\n",
    "# Define a function to calculate the relative value\n",
    "def calculate_relative_value(x):\n",
    "    if 'stoichiometry' in x['Stage'].values:\n",
    "        stoichiometry_value = x.loc[x['Stage'] == 'stoichiometry', 'Value'].values[0]\n",
    "        x['Relative_Value'] = x['Value'] / stoichiometry_value\n",
    "    else:\n",
    "        x['Relative_Value'] = 0\n",
    "    return x\n",
    "\n",
    "# Apply the transformation to each group\n",
    "transformed_df = grouped_df.apply(calculate_relative_value)\n",
    "transformed_df.drop('Value',axis=1)\n",
    "\n",
    "plot_dataframe(transformed_df,'IN-','Relative_')"
   ]
  },
  {
   "cell_type": "code",
   "execution_count": null,
   "metadata": {},
   "outputs": [],
   "source": [
    "\n",
    "color=iter(cm.hsv(np.linspace(0,1,len(phases)+1)))\n"
   ]
  },
  {
   "cell_type": "code",
   "execution_count": null,
   "metadata": {
    "scrolled": true
   },
   "outputs": [],
   "source": [
    "phasess=['stoichiometry_Flux','Ring_Flux','Trophozoite_Flux','Schizont_Flux']\n",
    "checker = table[phasess].sum(axis=1).abs()\n",
    "with_flux_table = table[checker >= 0.1E-010]\n",
    "with_flux_table.drop(['GENE ASSOCIATION','REPLACEMENT ID','COMPARTMENT','MIRIAM','OBJECTIVE'],axis=1)"
   ]
  },
  {
   "cell_type": "code",
   "execution_count": null,
   "metadata": {
    "scrolled": false
   },
   "outputs": [],
   "source": [
    "phases = ['stoichiometry', 'Ring', 'Trophozoite', 'Schizont']\n",
    "markers =  (\"s\",\"D\",\"^\",\"o\")\n",
    "marks = iter(markers)\n",
    "colormap = plt.cm.get_cmap('tab10')\n",
    "annotate = False\n",
    "\n",
    "fig, ax = plt.subplots(figsize=(10,30))\n",
    "for i,phase in enumerate(phases):\n",
    "    if annotate:\n",
    "        for i, txt in enumerate(with_flux_table['ID']):\n",
    "            ax.annotate(txt, xy=(with_flux_table['stoichiometry_Flux'].iat[i], table[phase+'_Flux'].iat[i]))\n",
    "    ax = with_flux_table.plot.scatter (x=phase+'_Flux', y ='ID' , color=colormap(i), label=phase, marker=next(marks), s=50, ax=ax)\n",
    "    #ax.set_xlim(min(table['stoichiometry_Flux'])-0.01, max(table['stoichiometry_Flux'])+0.01)\n",
    "\n",
    "plt.xlabel('Phases flux-values')\n",
    "plt.legend(phases,fontsize=17,bbox_to_anchor=(0., 1.02, 1., .102), loc=3,ncol=4, mode=\"expand\",fancybox = True, borderaxespad=0.)\n",
    "plt.tight_layout()"
   ]
  },
  {
   "cell_type": "code",
   "execution_count": null,
   "metadata": {
    "scrolled": false
   },
   "outputs": [],
   "source": [
    "fluxi=[]\n",
    "for phase in phases:\n",
    "    fluxi.append(phase+'_Flux')\n",
    "    \n",
    "#checker = table[fluxi].sum(axis=1)\n",
    "#newtable = table[checker!=0]\n",
    "\n",
    "fig, ax = plt.subplots(figsize=(10,40))\n",
    "with_flux_table.plot.barh(x='ID', y =fluxi, label=phases, ax=ax)\n",
    "ax.set_xlim(min(with_flux_table['stoichiometry_Flux'])-0.01, max(with_flux_table['stoichiometry_Flux'])+0.01)\n",
    "\n",
    "plt.xlabel('Phases flux-values')\n",
    "plt.ylabel('Reaction IDs')\n",
    "plt.legend(phases, fontsize = 17, bbox_to_anchor = (0., 1.001, 1., .102), loc = 3, ncol = 4, mode = \"expand\", fancybox = True, borderaxespad = 0.)\n",
    "plt.tight_layout()"
   ]
  },
  {
   "cell_type": "code",
   "execution_count": null,
   "metadata": {},
   "outputs": [],
   "source": [
    "with_flux_table"
   ]
  },
  {
   "cell_type": "code",
   "execution_count": null,
   "metadata": {
    "scrolled": false
   },
   "outputs": [],
   "source": [
    "stacked_data = with_flux_table[fluxi].apply(lambda x: x*100/max(abs(x)), axis=1)\n",
    "stacked_data['ID'] = with_flux_table['ID']\n",
    "stacked_data['NAME'] = with_flux_table['NAME']\n",
    "fig, ax = plt.subplots(figsize=(17,35))\n",
    "stacked_data.plot.barh(x = 'NAME', y = fluxi , label = phases, ax = ax)\n",
    "\n",
    "plt.xlabel('Flux-value in [%] to max_flux_value in Phases')\n",
    "plt.ylabel('Reaction ID')\n",
    "plt.legend(phases, fontsize = 16, bbox_to_anchor = (0., 1.001, 1., .102), loc = 3, ncol = 4, mode = \"expand\", fancybox = True, borderaxespad = 0.)\n",
    "plt.tight_layout()"
   ]
  },
  {
   "cell_type": "code",
   "execution_count": null,
   "metadata": {},
   "outputs": [],
   "source": [
    "ipfa.reactions.R07770_a"
   ]
  },
  {
   "cell_type": "code",
   "execution_count": null,
   "metadata": {},
   "outputs": [],
   "source": [
    "ipfa.reactions.R07771_a"
   ]
  },
  {
   "cell_type": "code",
   "execution_count": null,
   "metadata": {},
   "outputs": [],
   "source": [
    "ipfa.reactions.R01280_a"
   ]
  },
  {
   "cell_type": "code",
   "execution_count": null,
   "metadata": {},
   "outputs": [],
   "source": [
    "ipfa.reactions.R09380_a"
   ]
  },
  {
   "cell_type": "code",
   "execution_count": null,
   "metadata": {},
   "outputs": [],
   "source": [
    "ipfa.reactions.R00842_a"
   ]
  },
  {
   "attachments": {},
   "cell_type": "markdown",
   "metadata": {},
   "source": [
    "## Analysis of lipid biomass network"
   ]
  },
  {
   "cell_type": "code",
   "execution_count": null,
   "metadata": {},
   "outputs": [],
   "source": [
    "ipfa.optimize()"
   ]
  },
  {
   "cell_type": "code",
   "execution_count": null,
   "metadata": {
    "scrolled": true
   },
   "outputs": [],
   "source": [
    "print(ipfa.metabolites.C00157_r.name)\n",
    "ipfa.metabolites.C00157_r.summary()"
   ]
  },
  {
   "cell_type": "code",
   "execution_count": null,
   "metadata": {},
   "outputs": [],
   "source": [
    "ipfa.reactions.R01321_r"
   ]
  },
  {
   "cell_type": "code",
   "execution_count": null,
   "metadata": {},
   "outputs": [],
   "source": [
    "print(ipfa.metabolites.C00249_c.name)\n",
    "ipfa.metabolites.C00249_c.summary()"
   ]
  },
  {
   "cell_type": "code",
   "execution_count": null,
   "metadata": {},
   "outputs": [],
   "source": [
    "ipfa.reactions.R01280_c"
   ]
  },
  {
   "cell_type": "code",
   "execution_count": null,
   "metadata": {},
   "outputs": [],
   "source": [
    "lipids_biomass = ['C00416_c','C00641_c','C00249_c', 'C00157_r', 'C00350_r','C02737_r','C00550_c','C00187_c','C00422_c','C00712_c','C01530_c','C06424_c']\n",
    "for lips in lipids_biomass:\n",
    "    print(ipfa.metabolites.get_by_id(lips).name)\n",
    "    print(ipfa.metabolites.get_by_id(lips).summary())\n",
    "    print(print_reactions(lips))"
   ]
  },
  {
   "cell_type": "code",
   "execution_count": null,
   "metadata": {},
   "outputs": [],
   "source": [
    "reactions = ['R01321_r','R02057_R02038_r','R07377_r','R01891_c']\n",
    "for reaction in reactions:\n",
    "    print(ipfa.reactions.get_by_id(reaction))"
   ]
  },
  {
   "cell_type": "code",
   "execution_count": null,
   "metadata": {},
   "outputs": [],
   "source": [
    "ipfa.metabolites.get_by_id('C00641_r').summary()"
   ]
  },
  {
   "cell_type": "code",
   "execution_count": null,
   "metadata": {},
   "outputs": [],
   "source": [
    "ipfa.reactions.get_by_id('R02057_R02038_r')"
   ]
  },
  {
   "cell_type": "code",
   "execution_count": null,
   "metadata": {},
   "outputs": [],
   "source": [
    "ipfa.reactions.get_by_id('R01799_c')"
   ]
  },
  {
   "cell_type": "code",
   "execution_count": null,
   "metadata": {},
   "outputs": [],
   "source": [
    "print(ipfa.metabolites.get_by_id('C00269_c').name)\n",
    "ipfa.metabolites.get_by_id('C00269_c').summary()"
   ]
  },
  {
   "cell_type": "code",
   "execution_count": null,
   "metadata": {},
   "outputs": [],
   "source": [
    "ipfa.reactions.get_by_id('R02030_c')"
   ]
  },
  {
   "cell_type": "code",
   "execution_count": null,
   "metadata": {},
   "outputs": [],
   "source": [
    "print(ipfa.metabolites.get_by_id('C05980_c').name)\n",
    "ipfa.metabolites.get_by_id('C05980_c').summary()"
   ]
  },
  {
   "cell_type": "code",
   "execution_count": null,
   "metadata": {},
   "outputs": [],
   "source": [
    "ipfa.reactions.get_by_id('R07390_c')"
   ]
  },
  {
   "cell_type": "code",
   "execution_count": null,
   "metadata": {},
   "outputs": [],
   "source": [
    "ipfa.metabolites.get_by_id('C00344_c').summary()"
   ]
  },
  {
   "cell_type": "code",
   "execution_count": null,
   "metadata": {},
   "outputs": [],
   "source": [
    "ipfa.reactions.get_by_id('R01802_c')"
   ]
  },
  {
   "cell_type": "code",
   "execution_count": null,
   "metadata": {},
   "outputs": [],
   "source": [
    "ipfa.reactions.get_by_id('R02240_c')"
   ]
  },
  {
   "cell_type": "code",
   "execution_count": null,
   "metadata": {},
   "outputs": [],
   "source": [
    "ipfa.reactions.get_by_id('R03435_c')"
   ]
  },
  {
   "cell_type": "code",
   "execution_count": null,
   "metadata": {},
   "outputs": [],
   "source": [
    "ipfa.reactions.get_by_id('R01280_c')"
   ]
  },
  {
   "cell_type": "code",
   "execution_count": null,
   "metadata": {},
   "outputs": [],
   "source": [
    "ipfa.reactions.get_by_id('R02057_R02038_r')"
   ]
  },
  {
   "cell_type": "code",
   "execution_count": null,
   "metadata": {},
   "outputs": [],
   "source": [
    "ipfa.reactions.get_by_id('R01891_c')"
   ]
  },
  {
   "cell_type": "code",
   "execution_count": null,
   "metadata": {},
   "outputs": [],
   "source": [
    "ipfa.reactions.get_by_id('R01321_r')"
   ]
  },
  {
   "cell_type": "code",
   "execution_count": null,
   "metadata": {},
   "outputs": [],
   "source": [
    "ipfa.reactions.get_by_id('R07377_r')"
   ]
  },
  {
   "cell_type": "code",
   "execution_count": null,
   "metadata": {},
   "outputs": [],
   "source": [
    "print(ipfa.metabolites.C00002_c.name)\n",
    "ipfa.metabolites.C00002_c.summary()"
   ]
  },
  {
   "cell_type": "code",
   "execution_count": null,
   "metadata": {},
   "outputs": [],
   "source": [
    "print(ipfa.metabolites.C00154_c.name)\n",
    "ipfa.metabolites.C00154_c.summary()"
   ]
  },
  {
   "cell_type": "code",
   "execution_count": null,
   "metadata": {},
   "outputs": [],
   "source": [
    "ipfa.reactions.R01281_c"
   ]
  },
  {
   "cell_type": "code",
   "execution_count": null,
   "metadata": {},
   "outputs": [],
   "source": [
    "phases = ['stoichiometry', 'Ring', 'Trophozoite', 'Schizont']\n",
    "\n",
    "fig, axes = plt.subplots(ncols=2, nrows=2, figsize=(30,30))\n",
    "\n",
    "for i,phase in enumerate(phases):\n",
    "    \n",
    "    my_dataframe = ex_flux_dict[phase]['OUT Flux']['flux'][ex_flux_dict[phase]['OUT Flux']['flux'] != '']\n",
    "    my_dataframe.plot.pie(y='flux',labels = ex_flux_dict[phase]['OUT Flux']['Names'], ax= axes.flat[i])\n",
    "    \n",
    "    axes.flat[i].set_xlabel(phase+'-phase flux-values')\n",
    "    axes.flat[i].set_ylabel('')\n",
    "\n",
    "plt.tight_layout()"
   ]
  },
  {
   "cell_type": "code",
   "execution_count": null,
   "metadata": {},
   "outputs": [],
   "source": [
    "phases = ['stoichiometry', 'Ring', 'Trophozoite', 'Schizont']\n",
    "\n",
    "fig, axes = plt.subplots(ncols=2, nrows=2, figsize=(30,30))\n",
    "\n",
    "for i,phase in enumerate(phases):\n",
    "    \n",
    "    helper = ex_flux_dict[phase]['IN Flux']['flux']*(-1)\n",
    "    helper.plot.pie(y='flux', labels = ex_flux_dict[phase]['IN Flux']['Names'], ax= axes.flat[i])\n",
    "    \n",
    "    axes.flat[i].set_xlabel(phase+'-phase flux-values')\n",
    "    axes.flat[i].set_ylabel('')\n",
    "\n",
    "plt.tight_layout()"
   ]
  },
  {
   "cell_type": "code",
   "execution_count": null,
   "metadata": {
    "scrolled": false
   },
   "outputs": [],
   "source": [
    "phases = ['stoichiometry', 'Ring', 'Trophozoite', 'Schizont']\n",
    "color=iter(cm.rainbow(np.linspace(0,1,len(phases))))\n",
    "\n",
    "fig, axes = plt.subplots(ncols=2, nrows=2, figsize=(30,30))\n",
    "\n",
    "for i,phase in enumerate(phases):\n",
    "    c=next(color)\n",
    "    ex_flux_dict[phase]['IN Flux'].plot.barh(x='Names', y ='flux',label= phase, color=c, ax= axes.flat[i])\n",
    "    #ax.set_xlim(min(table['stoichiometry_Flux'])-0.01, max(table['stoichiometry_Flux'])+0.01)\n",
    "    axes.flat[i].set_ylabel(phase+'-phase flux-values')\n",
    "    #axes.flat[i].legend(phase,fontsize=17,bbox_to_anchor=(0., 1.02, 1., .102), loc=3,ncol=1, mode=\"expand\",fancybox = True, borderaxespad=0.)\n",
    "\n",
    "plt.tight_layout()\n",
    "\n"
   ]
  },
  {
   "cell_type": "code",
   "execution_count": null,
   "metadata": {},
   "outputs": [],
   "source": [
    "reactionstable = pd.read_csv('~/first-lipid-model/odemodel/reactions.csv', header=0)\n",
    "reactionstable"
   ]
  },
  {
   "cell_type": "code",
   "execution_count": null,
   "metadata": {},
   "outputs": [],
   "source": [
    "ipfarid = [reactionid[:] for reactionid in table['ID']]#\n",
    "modelsrid = list(reactionstable['ID'])\n",
    "#check if model ids are in iPFA reaction ids since they are shortend\n",
    "matching = [reaction for reaction in ipfarid if any(modelid in reaction for modelid in modelsrid)]\n",
    "len(matching)"
   ]
  },
  {
   "cell_type": "code",
   "execution_count": null,
   "metadata": {},
   "outputs": [],
   "source": [
    "newtable = table[table['ID'].isin(matching)]\n",
    "newtable = newtable.sort_values(by='ID', ascending='False',ignore_index=True)\n",
    "newtable.drop(['OBJECTIVE', 'COMPARTMENT', 'MIRIAM'], axis=1)"
   ]
  },
  {
   "cell_type": "code",
   "execution_count": null,
   "metadata": {},
   "outputs": [],
   "source": [
    "newtable['NAME']"
   ]
  },
  {
   "cell_type": "code",
   "execution_count": null,
   "metadata": {},
   "outputs": [],
   "source": [
    "matching2 = [reaction for reaction in modelsrid if any(reaction in modelid for modelid in ipfarid)]\n",
    "phasess=['stoichiometry_Flux','Ring_Flux','Trophozoite_Flux','Schizont_Flux']\n",
    "rct_values_dict = {}\n",
    "for r in matching2:\n",
    "    allrs = [reaction for reaction in ipfarid if r in reaction]\n",
    "    \n",
    "    shorttable = newtable[newtable['ID'].isin(allrs)]\n",
    "    values = shorttable[phasess].sum()\n",
    "    \n",
    "    rct_values_dict[r]=values\n"
   ]
  },
  {
   "cell_type": "code",
   "execution_count": null,
   "metadata": {},
   "outputs": [],
   "source": [
    "#read dot file of lasse and rewrite to add the flux values of ipfa\n",
    "wholetxt=\"\"\n",
    "with open(\"/home/maxim/PhD/Lipid-Model/Model/visualization/model.dot\", \"r\") as f:\n",
    "    for cnt, line in enumerate(f):\n",
    "        #get reaction node descriptor line\n",
    "        if line[:6] in rct_values_dict.keys() and line[7] == \"[\":\n",
    "            text = \"\"\n",
    "            lins = line\n",
    "            #rewrite line with values of fba with maier data\n",
    "            for i, value in enumerate(rct_values_dict[line[:6]]):\n",
    "                text += (\"\\n {} = {:.4f}\".format(rct_values_dict[line[:6]].index[i],value))\n",
    "                \n",
    "            new = line[:-4] + text + '\"];\\n'\n",
    "            wholetxt += new\n",
    "        #else write line as it is\n",
    "        else:\n",
    "            wholetxt += line\n",
    "# write dot file            \n",
    "with open('file.dot', 'w') as file:\n",
    "    file.write(wholetxt)"
   ]
  },
  {
   "cell_type": "code",
   "execution_count": null,
   "metadata": {
    "scrolled": false
   },
   "outputs": [],
   "source": [
    "fluxi=[]\n",
    "for phase in phases:\n",
    "    fluxi.append(phase+'_Flux')\n",
    "# get all shared reactions even if there is no flux in iPFA\n",
    "\n",
    "\n",
    "fig, ax = plt.subplots(figsize=(12,10))\n",
    "newtable.plot.barh(x='NAME', y =fluxi , label=phases, ax=ax)\n",
    "#ax.set_xlim(min(with_flux_table['stoichiometry_Flux'])-0.01, max(with_flux_table['stoichiometry_Flux'])+0.01)\n",
    "#Same means reaction happens in two different compartments \n",
    "plt.xlabel('Phases flux-values')\n",
    "plt.ylabel('Reaction IDs')\n",
    "plt.legend(phases, bbox_to_anchor = (0., 1.001, 1., .102), loc = 3, ncol = 4, mode = \"expand\", fancybox = True, borderaxespad = 0.)\n",
    "plt.tight_layout()"
   ]
  },
  {
   "cell_type": "code",
   "execution_count": null,
   "metadata": {
    "scrolled": false
   },
   "outputs": [],
   "source": [
    "stacked_data = newtable[fluxi].apply(lambda x: x*100/max(abs(x)), axis=1)\n",
    "stacked_data['NAME'] = newtable['NAME']\n",
    "\n",
    "fig, ax = plt.subplots(figsize=(12,10))\n",
    "stacked_data.plot.barh(x ='NAME', y = fluxi , label = phases, ax = ax)\n",
    "\n",
    "plt.xlabel('Flux-value in correlation to max_flux_value(Phases)')\n",
    "plt.ylabel('Reaction ID')\n",
    "plt.legend(phases, bbox_to_anchor = (0., 1.001, 1., .102), loc = 3, ncol = 4, mode = \"expand\", fancybox = True, borderaxespad = 0.)\n",
    "plt.tight_layout()"
   ]
  },
  {
   "cell_type": "code",
   "execution_count": null,
   "metadata": {},
   "outputs": [],
   "source": [
    "import requests\n",
    "def kegg_by_name(metabolite_name):\n",
    "\n",
    "    # Query the KEGG API for the metabolite's information\n",
    "    response = requests.get(f\"http://rest.kegg.jp/find/compound/{metabolite_name}\")\n",
    "    if response.ok:\n",
    "        # If the query was successful, retrieve the KEGG ID from the response\n",
    "        ids=[]\n",
    "        for line in response.text.strip().split(\"\\n\"):\n",
    "            metaid, aliases = line.split('\\t')\n",
    "            metaid = metaid.split(':')[1]\n",
    "            aliases = [alias.strip() for alias in aliases.split(';')]\n",
    "            match = [alias for alias in aliases if alias == metabolite_name]\n",
    "            if match!=[]:\n",
    "                ids.append(metaid)\n",
    "        print(f\"The KEGG ID for {metabolite_name} is {ids}\")\n",
    "        return ids[0]\n",
    "    else:\n",
    "        # If the query was not successful, print an error message\n",
    "        print(f\"Error querying KEGG API: {response.status_code} {response.reason}\")\n",
    "\n",
    "def convert_bigg_to_kegg(bigg_id, entity):\n",
    "    '''Function to translate BiGG reaction ID into KEGG ID'''\n",
    "    # Make a GET request to the BiGG API\n",
    "    response = requests.get(f'http://bigg.ucsd.edu/api/v2/universal/{entity}/{bigg_id}')\n",
    "    linker = 'Reaction'\n",
    "    if entity == 'metabolites':\n",
    "        linker = 'Compound'\n",
    "    # Extract the KEGG ID from the response JSON\n",
    "    try:\n",
    "        kegg_id = response.json()['database_links'][f'KEGG {linker}'][0]['id']\n",
    "        print(response.json()['name'])\n",
    "        return kegg_id\n",
    "    except (KeyError, IndexError):\n",
    "        print(f'No KEGG ID found for BiGG ID: {bigg_id}')\n",
    "        if entity == 'metabolites':\n",
    "            return kegg_by_name(response.json()['name'])\n",
    "        else:\n",
    "            print(response.json()['name'])\n",
    "        return None"
   ]
  },
  {
   "cell_type": "code",
   "execution_count": null,
   "metadata": {},
   "outputs": [],
   "source": [
    "ribo_rcts = ['RBFK','RIBFLVt2','ACP1']\n",
    "kegg_ribo = [convert_bigg_to_kegg(x, 'reactions') for x in ribo_rcts]"
   ]
  },
  {
   "cell_type": "code",
   "execution_count": null,
   "metadata": {},
   "outputs": [],
   "source": [
    "anti_metas = ['ribflv','ncam','pydxn','thm']\n",
    "#['C00378']\n",
    "tester = [convert_bigg_to_kegg(x, 'metabolites') for x in anti_metas]"
   ]
  },
  {
   "cell_type": "code",
   "execution_count": null,
   "metadata": {},
   "outputs": [],
   "source": [
    "tester"
   ]
  },
  {
   "cell_type": "code",
   "execution_count": null,
   "metadata": {},
   "outputs": [],
   "source": [
    "ipfa = cobra.io.read_sbml_model(\"ipfasbml.xml\")"
   ]
  },
  {
   "cell_type": "code",
   "execution_count": null,
   "metadata": {},
   "outputs": [],
   "source": [
    "def run_fba_without_rxns_metabolite(model, meta):\n",
    "    \n",
    "    rxn_set = model.metabolites.get_by_id(meta).reactions\n",
    "    rxns = [rxn.id for rxn in rxn_set]\n",
    "    f = None\n",
    "    with model:\n",
    "        model.remove_reactions(rxns)\n",
    "        f = model.optimize().objective_value\n",
    "    return f \n",
    "frac = 0.9 * ipfa.optimize().objective_value\n",
    "\n",
    "anti_metas = ['ribflv','ncam','pydxn','thm']\n",
    "tester = [convert_bigg_to_kegg(x, 'metabolites') for x in anti_metas]\n",
    "# 'ribflv[c]' translates to C00255_c\n",
    "for meta in tester:\n",
    "    string=meta +'_c'\n",
    "    #rxns = ipfa.metabolites.get_by_id(string).reactions\n",
    "    value = run_fba_without_rxns_metabolite(ipfa, string)\n",
    "\n",
    "    if value > frac:\n",
    "        print(f'Model grows with antimetabolite for {string}')\n",
    "    else:\n",
    "        print(f'Passes, test for {string}')\n",
    "        "
   ]
  },
  {
   "cell_type": "code",
   "execution_count": null,
   "metadata": {},
   "outputs": [],
   "source": [
    "exchange_rxns = [exchange.id for exchange in ipfa.exchanges] # find exchange reactions\n",
    "with ipfa:\n",
    "    for reaction in exchange_rxns:\n",
    "        ipfa.reactions.get_by_id(reaction).bounds=(-1000,0) # block all exchange reactions\n",
    "    meta = convert_bigg_to_kegg('atp', 'metabolites')\n",
    "    ipfa.add_boundary(ipfa.metabolites.get_by_id(meta+'_c'), type='demand') # add ATP demand reaction\n",
    "    ipfa.objective_coefficient = 1 # set objective coefficient to 1\n",
    "    value = ipfa.optimize().objective_value # optimize the minimal medium for the modified model\n",
    "    if value >= frac:\n",
    "        print('Model produces ATP when all import reactions are blocked')\n",
    "    else:\n",
    "        print(f'Passes, no ATP production, solution: {value}, when all import reactions are blocked')"
   ]
  },
  {
   "cell_type": "code",
   "execution_count": null,
   "metadata": {},
   "outputs": [],
   "source": [
    "purines = ['HXAN','GUA','DIMP','INS','ADN','DAD_2','DGSN','DIN','GSN','PAP','XAN']\n",
    "kegg_purines = [convert_bigg_to_kegg(x.lower(), 'metabolites') for x in purines]\n",
    "kegg_purines"
   ]
  },
  {
   "cell_type": "code",
   "execution_count": null,
   "metadata": {},
   "outputs": [],
   "source": [
    "kegg_purines[-2]='C00170'\n",
    "kegg_purines"
   ]
  },
  {
   "cell_type": "code",
   "execution_count": null,
   "metadata": {},
   "outputs": [],
   "source": [
    "for meta in kegg_purines:\n",
    "    rxn_set = ipfa.metabolites.get_by_id(meta+'_c').reactions\n",
    "    exchange_rxns = [exchange.id for exchange in rxn_set]\n",
    "    print(exchange_rxns)"
   ]
  },
  {
   "cell_type": "code",
   "execution_count": null,
   "metadata": {},
   "outputs": [],
   "source": [
    "table = pd.read_excel('ipfa_raven_input.xlsx', header=0)"
   ]
  },
  {
   "cell_type": "code",
   "execution_count": null,
   "metadata": {},
   "outputs": [],
   "source": [
    "eq_rxns = table[table['SUBSYSTEM'].isin(['Purine metabolism'])]['EQUATION'].to_list()"
   ]
  },
  {
   "cell_type": "code",
   "execution_count": null,
   "metadata": {},
   "outputs": [],
   "source": [
    "def split_reaction_string(reaction_str):\n",
    "    metabolites = reaction_str.split(\"<=>\")\n",
    "    reactants = metabolites[0].strip().split(\"+\")\n",
    "    products = metabolites[1].strip().split(\"+\")\n",
    "    return reactants + products\n",
    "\n",
    "def flatten(temp_list):\n",
    "    for ele in temp_list:\n",
    "        if type(ele) == list:\n",
    "            flatten(ele)\n",
    "        else:\n",
    "            new_list.append(ele.strip(' '))\n",
    "\n",
    "all_metas = [split_reaction_string(x) for x in eq_rxns]\n",
    "new_list=[]\n",
    "flatten(all_metas)\n",
    "purines_set = set(new_list).copy()"
   ]
  },
  {
   "cell_type": "code",
   "execution_count": null,
   "metadata": {},
   "outputs": [],
   "source": [
    "eq_ex_rxns = table[table['SUBSYSTEM'].isin(['Transport between c and e'])]['EQUATION'].to_list()\n",
    "ex_metas = [split_reaction_string(x) for x in eq_ex_rxns]\n",
    "new_list=[]\n",
    "flatten(ex_metas)\n",
    "ex_all = set(new_list).copy()\n",
    "list(ex_all.intersection(purines_set))"
   ]
  },
  {
   "cell_type": "code",
   "execution_count": null,
   "metadata": {},
   "outputs": [],
   "source": [
    "purines_ex = ['Purine[c]', 'Deoxyadenosine[c]', 'Adenosine[c]', 'L-Aspartate[c]',\n",
    " 'Purine deoxyribonucleoside[c]', 'Xanthosine[c]', 'L-Homocysteine[c]', 'Xanthine[c]',\n",
    " 'Selenohomocysteine[c]',\n",
    " 'Guanosine[c]',\n",
    " 'Thioredoxin disulfide[c]',\n",
    " 'Se-Adenosyl-L-selenohomocysteine[c]',\n",
    " 'Thioredoxin[c]',\n",
    " 'Se-Adenosylselenomethionine[c]',\n",
    " 'Hypoxanthine[c]',\n",
    " 'S-Adenosyl-L-homocysteine[c]',\n",
    " 'Fumarate[c]',\n",
    " 'Inosine[c]',\n",
    " 'L-Selenomethionine[c]',\n",
    " '(-)-Ureidoglycolate[c]',\n",
    " 'Deoxyguanosine[c]',\n",
    " 'Allantoate[c]',\n",
    " 'Guanine[c]',\n",
    " 'S-Adenosylmethioninamine[c]',\n",
    " 'N-D-Ribosylpurine[c]',\n",
    " 'L-Glutamate[c]',\n",
    " 'Adenine[c]',\n",
    " 'L-Glutamine[c]',\n",
    " 'Deoxyinosine[c]',\n",
    " 'S-Adenosyl-L-methionine[c]',\n",
    " \"5'-Methylthioadenosine[c]\"]"
   ]
  },
  {
   "cell_type": "code",
   "execution_count": null,
   "metadata": {},
   "outputs": [],
   "source": [
    "purine_ipfa = [kegg_by_name(x[:-3]) for x in purines_ex]\n",
    "purine_ipfa[-7] = 'C15586'"
   ]
  },
  {
   "cell_type": "code",
   "execution_count": null,
   "metadata": {},
   "outputs": [],
   "source": [
    "purine_ipfa=['C15587','C00559','C00212',\n",
    "             'C00049','C20463','C01762',\n",
    "             'C00155','C00385','C05698',\n",
    "             'C00387','C00343','C05692',\n",
    "             'C00342','C05691','C00262',\n",
    "             'C00021','C00122','C00294',\n",
    "             'C05335','C00603','C00330',\n",
    "             'C00499','C00242','C01137',\n",
    "             'C15586','C00025','C00147',\n",
    "             'C00064','C05512','C00019',\n",
    "             'C00170']\n"
   ]
  },
  {
   "cell_type": "code",
   "execution_count": null,
   "metadata": {},
   "outputs": [],
   "source": [
    "purine_ex_rxns=[]\n",
    "for meta in purine_ipfa:\n",
    "    try:\n",
    "        #print(meta)\n",
    "        rxn_set = ipfa.metabolites.get_by_id(meta+'_c').reactions\n",
    "        exchange_rxns = [exchange.id for exchange in rxn_set]\n",
    "        purine_ex_rxns.append(f'T_c_to_e_{meta}')\n",
    "        #print(exchange_rxns)\n",
    "    except(KeyError):\n",
    "        print(f'No cytosolic {meta}')\n",
    "purine_ex_rxns"
   ]
  },
  {
   "cell_type": "code",
   "execution_count": null,
   "metadata": {},
   "outputs": [],
   "source": [
    "def boundary_chnge_run_fba(model, rxns, bounds):\n",
    "    f = None\n",
    "    with model:\n",
    "        for i,reaction in enumerate(rxns):\n",
    "            model.reactions.get_by_id(reaction).bounds=bounds[i] # change boundaries\n",
    "        #print(ipfa.medium)\n",
    "        f = model.optimize().objective_value\n",
    "        #print(summary_wth_names())\n",
    "    return f\n",
    "lethal = 0.0\n",
    "for i in range(len(purine_ex_rxns)):\n",
    "    tmp = purine_ex_rxns.pop(i)\n",
    "    bound = [(-0,0)]*len(purine_ex_rxns)\n",
    "    value = boundary_chnge_run_fba(ipfa, purine_ex_rxns, bound)\n",
    "    print(value)\n",
    "    purine_ex_rxns.insert(i, tmp)\n",
    "    bound = [(0,0)]*len(purine_ex_rxns)\n",
    "    value = boundary_chnge_run_fba(ipfa, purine_ex_rxns, bound)\n",
    "    if value > lethal:\n",
    "        print(f'Purine {purines_ex[i]} not necessary for growth')\n",
    "    else:\n",
    "        print(f'Purine {purines_ex[i]}')"
   ]
  },
  {
   "cell_type": "code",
   "execution_count": null,
   "metadata": {},
   "outputs": [],
   "source": [
    "# Leaky metabolites\n",
    "exchange_rxns = [exchange.id for exchange in ipfa.exchanges] # find exchange reactions\n",
    "leaky = np.zeros(len(exchange_rxns))\n",
    "for i,rxn in enumerate(exchange_rxns):\n",
    "    with ipfa:\n",
    "        for reaction in exchange_rxns:\n",
    "            ipfa.reactions.get_by_id(reaction).bounds=(0,1000) # block all exchange reactions\n",
    "        ipfa.objective = {ipfa.reactions.get_by_id(rxn): 1}\n",
    "        leaky[i] = ipfa.optimize().objective_value\n",
    "# Print leaky reactions\n",
    "print(np.asarray(exchange_rxns)[np.where(leaky>1e-9)])\n",
    "print(leaky[np.where(leaky>1e-9)])"
   ]
  },
  {
   "cell_type": "code",
   "execution_count": null,
   "metadata": {},
   "outputs": [],
   "source": [
    "print(ipfa.metabolites.get_by_id('C00080_e').name)\n",
    "ipfa.reactions.EXC_BOTH_C00080_e"
   ]
  },
  {
   "cell_type": "code",
   "execution_count": null,
   "metadata": {},
   "outputs": [],
   "source": [
    "def boundary_chnge_run_fba(model, rxns, bounds):\n",
    "    f = None\n",
    "    with model:\n",
    "        for i, reaction in enumerate(rxns):\n",
    "            model.reactions.get_by_id(reaction).bounds=bounds[i] # change boundaries\n",
    "        #print(ipfa.medium)\n",
    "        f = model.optimize().objective_value\n",
    "        #print(summary_wth_names())\n",
    "    return f\n",
    "# No 'D-Glucose' import -> D-Glucosamine C00329 compensates,\n",
    "# if both out -> fructose compensates, probably wrong representation of sugar metabolism for asexual \n",
    "rxns_glu = ['T_c_to_e_C00031','T_c_to_e_C00329']\n",
    "bound = [(0,0)]*len(rxns_glu)\n",
    "value = boundary_chnge_run_fba(ipfa, rxns_glu, bound)\n",
    "print(value)"
   ]
  },
  {
   "cell_type": "code",
   "execution_count": null,
   "metadata": {},
   "outputs": [],
   "source": [
    "# Important AA\n",
    "# L-Isoleucine, L-Tyrosine, L-Methionine, L-Proline\tL-Glutamine L-Glutamate 5-semialdehyde\n",
    "aa_metas = ['C00407', 'C00082','C00073', 'C00148','C00064','C01165','C00568']\n",
    "aa_metas_ex_rxns=[]\n",
    "for aa_meta in aa_metas:\n",
    "    try:\n",
    "        #print(meta)\n",
    "        rxn_set = ipfa.metabolites.get_by_id(aa_meta+'_c').reactions\n",
    "        exchange_rxns = [exchange.id for exchange in rxn_set]\n",
    "        aa_metas_ex_rxns.append(f'T_c_to_e_{aa_meta}')\n",
    "        print(exchange_rxns)\n",
    "    except(KeyError):\n",
    "        print(f'No cytosolic {aa_meta}')\n",
    "\n",
    "for i,rxn_t in enumerate(aa_metas_ex_rxns):\n",
    "    #print(rxn_t)\n",
    "    bound = [(-0.0,0)]*len([rxn_t])\n",
    "    value = boundary_chnge_run_fba(ipfa, [rxn_t], bound)\n",
    "    name = ipfa.metabolites.get_by_id(aa_metas[i]+'_c').name\n",
    "    if value <= frac:\n",
    "        print(f'Growth reduced without {name}, solution at {value}')\n",
    "    else:\n",
    "        print(f'No growth reduction with no {name}')"
   ]
  },
  {
   "cell_type": "code",
   "execution_count": null,
   "metadata": {},
   "outputs": [],
   "source": [
    "prods = ipfa.reactions.HBDG_c.products\n",
    "[pord.name for pord in prods]"
   ]
  },
  {
   "cell_type": "code",
   "execution_count": null,
   "metadata": {},
   "outputs": [],
   "source": [
    "ipfa.optimize()\n",
    "ipfa.summary(fva=0.95)"
   ]
  },
  {
   "cell_type": "code",
   "execution_count": null,
   "metadata": {},
   "outputs": [],
   "source": [
    "ipfa.metabolites.C00078_c.summary(fva=0.99)"
   ]
  },
  {
   "cell_type": "code",
   "execution_count": null,
   "metadata": {},
   "outputs": [],
   "source": [
    "pfba_solution = cobra.flux_analysis.pfba(ipfa)"
   ]
  },
  {
   "cell_type": "code",
   "execution_count": null,
   "metadata": {},
   "outputs": [],
   "source": [
    "pfba_solution"
   ]
  },
  {
   "cell_type": "code",
   "execution_count": null,
   "metadata": {},
   "outputs": [],
   "source": [
    "blo = cobra.flux_analysis.find_blocked_reactions(ipfa)\n",
    "blo # more than metnetx found"
   ]
  },
  {
   "cell_type": "code",
   "execution_count": null,
   "metadata": {},
   "outputs": [],
   "source": [
    "def minimal_medium(model, indispensible=False, cols=11):\n",
    "    # Find maximal growth rate\n",
    "    max_growth = model.slim_optimize()\n",
    "    # Find minimal media (11) that have defined growth rate\n",
    "    # Exchange reactions are found, each column one possible medium \n",
    "    medium_df = cobra.medium.minimal_medium(model, max_growth, minimize_components=cols)\n",
    "    # Get metabolites of the exchange reactions\n",
    "    mets = []\n",
    "    for ind in medium_df.index:\n",
    "        met = model.reactions.get_by_id(ind).metabolites    \n",
    "        mets = mets + list(met.keys())\n",
    "    # Get name of the metabolites\n",
    "    name_mets = [x.name for x in mets]\n",
    "    # Set in dataframe\n",
    "    medium_df['name']=name_mets\n",
    "    # Return if indispensible only metabolites that are present in every solution\n",
    "    if indispensible:\n",
    "        return medium_df[(medium_df!=0).all(axis=1)]\n",
    "    # Else all solutions returned\n",
    "    else:\n",
    "        return medium_df\n"
   ]
  },
  {
   "cell_type": "code",
   "execution_count": null,
   "metadata": {},
   "outputs": [],
   "source": [
    "medium = minimal_medium(ipfa,indispensible=0, cols=15)"
   ]
  },
  {
   "cell_type": "code",
   "execution_count": null,
   "metadata": {},
   "outputs": [],
   "source": [
    "medium"
   ]
  }
 ],
 "metadata": {
  "kernelspec": {
   "display_name": "Python 3 (ipykernel)",
   "language": "python",
   "name": "python3"
  },
  "language_info": {
   "codemirror_mode": {
    "name": "ipython",
    "version": 3
   },
   "file_extension": ".py",
   "mimetype": "text/x-python",
   "name": "python",
   "nbconvert_exporter": "python",
   "pygments_lexer": "ipython3",
   "version": "3.10.12"
  }
 },
 "nbformat": 4,
 "nbformat_minor": 4
}
