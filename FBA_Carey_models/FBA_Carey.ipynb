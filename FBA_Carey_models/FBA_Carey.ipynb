{
 "cells": [
  {
   "cell_type": "code",
   "execution_count": null,
   "id": "2a7ce25b-5ac2-46ce-b41f-c99bfdb010f8",
   "metadata": {},
   "outputs": [],
   "source": [
    "import cobra\n",
    "import pandas as pd\n",
    "import numpy as np\n",
    "import matplotlib.pyplot as plt\n",
    "pd.options.display.max_rows = 4000\n"
   ]
  },
  {
   "cell_type": "code",
   "execution_count": null,
   "id": "b434d454-6e9d-434d-a7ec-a9aed230b3b0",
   "metadata": {
    "scrolled": true
   },
   "outputs": [],
   "source": [
    "ipfal17 = cobra.io.read_sbml_model(\"iPfal17_rewrite.xml\")\n",
    "print(ipfal17.objective.expression)\n",
    "print(ipfal17.compartments)\n",
    "print(ipfal17.annotation)\n",
    "print(biomass_tabel(ipfal17))\n"
   ]
  },
  {
   "cell_type": "code",
   "execution_count": null,
   "id": "dfada659",
   "metadata": {},
   "outputs": [],
   "source": [
    "ipfal17.reactions.Lipid_prod"
   ]
  },
  {
   "cell_type": "code",
   "execution_count": null,
   "id": "03841e52",
   "metadata": {},
   "outputs": [],
   "source": [
    "0.2+4+35+18+1.5+4.25+0.519+14+1.5"
   ]
  },
  {
   "cell_type": "code",
   "execution_count": null,
   "id": "a16474f3-d03e-4695-a428-43f03ceb6f92",
   "metadata": {},
   "outputs": [],
   "source": [
    "ipfal19 = cobra.io.read_sbml_model(\"iPfal19_with_annotation.xml\")"
   ]
  },
  {
   "cell_type": "code",
   "execution_count": null,
   "id": "87aa22ec-4d6e-44ef-924a-3ab0a7b827f1",
   "metadata": {},
   "outputs": [],
   "source": [
    "print(ipfal19.objective.expression)\n",
    "print(ipfal19.compartments)\n",
    "print(ipfal19.annotation)\n",
    "del ipfal19"
   ]
  },
  {
   "cell_type": "code",
   "execution_count": null,
   "id": "40ebe865-20ed-4ee5-8ca9-bc76f55514fa",
   "metadata": {},
   "outputs": [],
   "source": [
    "ipfal21 = cobra.io.load_json_model(\"iPfal21.json\")"
   ]
  },
  {
   "cell_type": "code",
   "execution_count": null,
   "id": "ade33220",
   "metadata": {},
   "outputs": [],
   "source": [
    "ipfal21.optimize()\n",
    "ipfal21.summary(fva=0.95)"
   ]
  },
  {
   "attachments": {},
   "cell_type": "markdown",
   "id": "2a1d2b4d",
   "metadata": {},
   "source": [
    "## Metabolic tasks as defined in the 2017 Carey et al. paper"
   ]
  },
  {
   "cell_type": "code",
   "execution_count": null,
   "id": "3626738a",
   "metadata": {
    "scrolled": true
   },
   "outputs": [],
   "source": [
    "'''This script runs a series of metabolic tasks on a cobra model structure\n",
    "to test wether the model is able to perform behaviors observed in\n",
    "vitro or in vivo. The tasks include: KO reactions (lethal KOs observed\n",
    "experimentally should be recapitulated in silico), ATP production (model\n",
    "should not produce ATP if no import is permitted), purine necessity\n",
    "(except hypoxathine, purines are not supplemneted in vitro, but are present in vivo, the\n",
    "parasite should grow with and without purines), sugar requirement (while\n",
    "it is unclear in the literature, Pf likely cannot grow unless glucose and\n",
    "or fructose are present), production or import of riboflavin, nicotinamide, pyridoxine, and thiamine'''\n",
    "\n",
    "def run_fba_without_rxns_metabolite(model, meta):\n",
    "    \n",
    "    rxn_set = ipfal21.metabolites.get_by_id(meta).reactions\n",
    "    rxns = [rxn.id for rxn in rxn_set]\n",
    "    f = None\n",
    "    with model:\n",
    "        model.remove_reactions(rxns)\n",
    "        f = model.optimize().objective_value\n",
    "    return f \n",
    "\n",
    "def boundary_chnge_run_fba(model, rxns, bounds):\n",
    "    f = None\n",
    "    with model:\n",
    "        for i,reaction in enumerate(rxns):\n",
    "            model.reactions.get_by_id(reaction).bounds=bounds[i] # change boundaries\n",
    "        \n",
    "        f = model.optimize().objective_value\n",
    "    return f\n",
    "\n",
    "lethal = 0.0\n",
    "frac = 0.9*ipfal21.optimize().objective_value\n",
    "#-------------------------------------------------------#\n",
    "value = run_fba_without_rxns_metabolite(ipfal21, 'ribflv_c')\n",
    "if value > frac:\n",
    "    print('Model grows with riboflavin antimetabolite')\n",
    "else:\n",
    "    print(f'Passes, objective_function={value}, Ribo test')\n",
    "    \n",
    "value = run_fba_without_rxns_metabolite(ipfal21, 'ncam_c')\n",
    "if value > frac:\n",
    "    print('Model grows with nico antimetabolite')\n",
    "else:\n",
    "    print(f'Passes, objective_function={value}, nico test')\n",
    "value = run_fba_without_rxns_metabolite(ipfal21, 'pydxn_c')\n",
    "if value > frac:\n",
    "    print('Model grows with pyro antimetabolite')\n",
    "else:\n",
    "    print(f'Passes, objective_function={value}, pyro test')\n",
    "    \n",
    "value = run_fba_without_rxns_metabolite(ipfal21, 'thm_c')\n",
    "if value >= frac:\n",
    "    print('Model grows with thiamine antimetabolite.')\n",
    "else:\n",
    "    print(f'Passes, objective_function={value}, thiamine test')\n",
    "#--------------------------------------------------------------#\n",
    "\n",
    "exchange_rxns = [exchange.id for exchange in ipfal21.exchanges] # find exchange reactions\n",
    "with ipfal21:\n",
    "    for reaction in exchange_rxns:\n",
    "        ipfal21.reactions.get_by_id(reaction).bounds=(0,0) # block all exchange reactions\n",
    "    ipfal21.add_boundary(ipfal21.metabolites.get_by_id('atp_c'), type='demand') # add ATP demand reaction\n",
    "    ipfal21.objective_coefficient = 1 # set objective coefficient to 1\n",
    "    value = ipfal21.optimize().objective_value # optimize the minimal medium for the modified model\n",
    "    if value >= frac:\n",
    "        print('Model produces ATP when all import reactions are blocked')\n",
    "    else:\n",
    "        print('Passes, no ATP production when all import reactions are blocked')\n",
    "#---------------------------------------------------------------------#\n",
    "# Medium composition\n",
    "# Can parasite grow when hypoxanthine is the only purine imported? \n",
    "hypoxanthine =['MTAADA','ADEt','dIMP_t','INSt',\n",
    "               'ADNt','GUAt','DADNt4','DGSNt',\n",
    "               'DINt','GSNt','PAPt','XANt']\n",
    "bound = [(-1000,0)]*len(hypoxanthine)\n",
    "value = boundary_chnge_run_fba(ipfal21, hypoxanthine, bound)\n",
    "if value <= lethal:\n",
    "    print('Model does not grow in in vitro conditions with hypoxanthine as the sole purine')\n",
    "else:\n",
    "    print('Passes, model grows with hypoxanthine as the sole purine')\n",
    "\n",
    "hypoxanthine = hypoxanthine + ['HYXNt']    \n",
    "bound = bound + [(0,0)]\n",
    "value = boundary_chnge_run_fba(ipfal21, hypoxanthine, bound)\n",
    "if value >= frac:\n",
    "    print('One purine (hypoxanthine) is not necessary for growth')\n",
    "else:\n",
    "    print('Passes')\n",
    "# What if only Adenine is available?\n",
    "exrxns =['MTAADA','HYXNt','GUAt','dIMP_t',\n",
    "         'INSt','ADNt','DADNt4','DGSNt',\n",
    "         'DINt','GSNt','PAPt','XANt']\n",
    "bound = [(-1000,0)]*len(exrxns)\n",
    "value = boundary_chnge_run_fba(ipfal21, exrxns, bound)\n",
    "if value <= lethal:\n",
    "    print('Model does not grow in in vitro conditions with adenine as the sole purine')\n",
    "else:\n",
    "    print('Passes, Adenine test with adenine as the sole purine')\n",
    "# No Adenine  \n",
    "exrxns = exrxns + ['ADEt']\n",
    "bound = bound + [(0,0)]\n",
    "value = boundary_chnge_run_fba(ipfal21, exrxns, bound)\n",
    "if value != lethal:\n",
    "    print(f'Model does not grow in in vitro conditions with adenine as the sole purine')\n",
    "else:\n",
    "    print('Passes, adenine test b')\n",
    "    \n",
    "# What if only Guanine is available?  \n",
    "exrxns =['MTAADA','HYXNt','ADEt','dIMP_t',\n",
    "         'INSt','ADNt','DADNt4','DGSNt',\n",
    "         'DINt','GSNt','PAPt','XANt']\n",
    "bound = [(-1000.0,0)]*len(exrxns)\n",
    "value = boundary_chnge_run_fba(ipfal21, exrxns, bound)\n",
    "if value <= lethal:\n",
    "    print(f'Model does not grow in in vitro conditions with Guanine as the sole purine')\n",
    "else:\n",
    "    print('Passes, Guanine test')\n",
    "# No Guanine  \n",
    "exrxns = exrxns + ['GUAt']\n",
    "bound = bound + [(0,0)]\n",
    "value = boundary_chnge_run_fba(ipfal21, exrxns, bound)\n",
    "if value != lethal:\n",
    "    print('Model does not grow in in vitro conditions with Guanine as the sole purine')\n",
    "else:\n",
    "    print('Passes, Guanine test b')\n",
    "\n",
    "# What if only Inosine is available?  \n",
    "exrxns =['MTAADA','HYXNt','ADEt','dIMP_t',\n",
    "         'GUAt','ADNt','DADNt4','DGSNt',\n",
    "         'DINt','GSNt','PAPt','XANt']\n",
    "bound = [(-1000.0,0)]*len(exrxns)\n",
    "value = boundary_chnge_run_fba(ipfal21, exrxns, bound)\n",
    "if value <= lethal:\n",
    "    print(f'Model does not grow in in vitro conditions with Inosine as the sole purine')\n",
    "else:\n",
    "    print('Passes, Inosine test')\n",
    "# No Inosine  \n",
    "exrxns = exrxns + ['INSt']\n",
    "bound = bound + [(0,0)]\n",
    "value = boundary_chnge_run_fba(ipfal21, exrxns, bound)\n",
    "if value != lethal:\n",
    "    print('Model does not grow in in vitro conditions with Inosine as the sole purine')\n",
    "else:\n",
    "    print('Passes, Inosine test b')\n",
    "# What if only Adenosine is available?  \n",
    "exrxns =['MTAADA','HYXNt','ADEt','dIMP_t',\n",
    "         'GUAt','INSt','DADNt4','DGSNt',\n",
    "         'DINt','GSNt','PAPt','XANt']\n",
    "bound = [(-1000.0,0)]*len(exrxns)\n",
    "value = boundary_chnge_run_fba(ipfal21, exrxns, bound)\n",
    "if value <= lethal:\n",
    "    print(f'Model does not grow in in vitro conditions with Adenosine as the sole purine')\n",
    "else:\n",
    "    print('Passes, Adenosine test')\n",
    "# No Adenosine  \n",
    "exrxns = exrxns + ['ADNt']\n",
    "bound = bound + [(0,0)]\n",
    "value = boundary_chnge_run_fba(ipfal21, exrxns, bound)\n",
    "if value != lethal:\n",
    "    print('Model does not grow in in vitro conditions with Adenosine as the sole purine')\n",
    "else:\n",
    "    print('Passes, Adenosine test b')\n",
    "    \n",
    "# What if only guanosine is available?\n",
    "exrxns = ['MTAADA', 'HYXNt', 'ADEt', 'dIMP_t',\n",
    "        'INSt', 'GUAt', 'DADNt4', 'DGSNt', \n",
    "        'DINt', 'ADNt', 'PAPt', 'XANt']\n",
    "bound = [(-1000.0,0)]*len(exrxns)\n",
    "value = boundary_chnge_run_fba(ipfal21, exrxns, bound)\n",
    "if value <= lethal:\n",
    "    print('Model does not grow in in vitro conditions with Guanosine as the sole purine')\n",
    "else:\n",
    "    print('Passes, Guanosine test')\n",
    "# No Guanosine  \n",
    "exrxns = exrxns + ['GSNt']\n",
    "bound = bound + [(0,0)]\n",
    "value = boundary_chnge_run_fba(ipfal21, exrxns, bound)\n",
    "if value != lethal:\n",
    "    print('Model does not grow in in vitro conditions with Guanosine as the sole purine')\n",
    "else:\n",
    "    print('Passes, Guanosine test b')\n",
    "# Can model grow on glucose as only sugar source\n",
    "exrxns = ['GLCt1']\n",
    "bound = [(-1000.0,0)]*len(exrxns)\n",
    "value = boundary_chnge_run_fba(ipfal21, exrxns, bound)\n",
    "if value != lethal:\n",
    "    print('Alternative sugars can replace glucose as sole sugar source (incorrectly)')\n",
    "else:\n",
    "    print('Passes, Glucose test')\n",
    "# Can model grow without isoleucine\n",
    "exrxns = ['ILELAT1tc']\n",
    "bound = [(-1000.0,0)]*len(exrxns)\n",
    "value = boundary_chnge_run_fba(ipfal21, exrxns, bound)\n",
    "if value != lethal:\n",
    "    print('Model grows without isoleucine')\n",
    "else:\n",
    "    print('Passes, isoleucine test')\n",
    "# Can model growth without p-aminobenzoic acid?\n",
    "exrxns = ['DHPS2']\n",
    "bound = [(-1000.0,0)]*len(exrxns)\n",
    "value = boundary_chnge_run_fba(ipfal21, exrxns, bound)\n",
    "if value != lethal:\n",
    "    print(f'Model grows without p-aminobenzoic acid')\n",
    "\n",
    "# Is growth reduced without tyrosine supplementation?\n",
    "exrxns = ['TYRt2r']\n",
    "bound = [(-1000.0,0)]*len(exrxns)\n",
    "value = boundary_chnge_run_fba(ipfal21, exrxns, bound)\n",
    "if value < frac:\n",
    "    print(f'tyrosine required for growth')\n",
    "if value > frac:\n",
    "    print(f'Growth is not reduced without tyrosine')\n",
    "\n",
    "# Is growth reduced without methionine supplementation?    \n",
    "exrxns = ['METt2r','METLEUex']\n",
    "bound = [(-1000.0,0)]*len(exrxns)\n",
    "value = boundary_chnge_run_fba(ipfal21, exrxns, bound)\n",
    "if value < frac:\n",
    "    print(f'methionine required for growth')\n",
    "if value > frac:\n",
    "    print(f'Growth is not reduced without methionine')\n",
    "\n",
    "# Is growth reduced without proline supplementation?    \n",
    "exrxns = ['PROt2r']\n",
    "bound = [(-1000.0,0)]*len(exrxns)\n",
    "value = boundary_chnge_run_fba(ipfal21, exrxns, bound)\n",
    "if value < frac:\n",
    "    print(f'proline required for growth')\n",
    "if value > frac:\n",
    "    print(f'Growth is not reduced without proline')\n",
    "    \n",
    "# Is growth reduced without glutamate supplementation?   \n",
    "exrxns = ['GLUt2r']\n",
    "bound = [(-1000.0,0)]*len(exrxns)\n",
    "value = boundary_chnge_run_fba(ipfal21, exrxns, bound)\n",
    "if value < frac:\n",
    "    print(f'glutamate required for growth')\n",
    "if value > frac:\n",
    "    print(f'Growth is not reduced without glutamate')\n",
    "\n",
    "# Is growth reduced without glutamine supplementation? \n",
    "exrxns = ['GLNt2r']\n",
    "bound = [(-1000.0,0)]*len(exrxns)\n",
    "exrxns = exrxns + ['THRGLNexR','SERGLNexR','ALAGLNexR','CYSGLUexR']\n",
    "bound = bound + [(0,1000)]*len(exrxns)\n",
    "\n",
    "value = boundary_chnge_run_fba(ipfal21, exrxns, bound)\n",
    "if value < frac:\n",
    "    print(f'glutamine required for growth')\n",
    "if value > frac:\n",
    "    print(f'Growth is not reduced without glutamine')\n",
    "#-----------------------------------------------------------------------------------\n",
    "# Leaky metabolites\n",
    "exchange_rxns = [exchange.id for exchange in ipfal21.exchanges] # find exchange reactions\n",
    "leaky = np.zeros(len(exchange_rxns))\n",
    "for i,rxn in enumerate(exchange_rxns):\n",
    "    with ipfal21:\n",
    "        for reaction in exchange_rxns:\n",
    "            ipfal21.reactions.get_by_id(reaction).bounds=(0,1000) # block all exchange reactions\n",
    "        ipfal21.objective = {ipfal21.reactions.get_by_id(rxn): 1}\n",
    "        leaky[i] = ipfal21.optimize().objective_value\n",
    "# Print leaky reactions\n",
    "np.asarray(exchange_rxns)[np.where(leaky>1e-9)]"
   ]
  },
  {
   "cell_type": "code",
   "execution_count": null,
   "id": "53cfe628",
   "metadata": {},
   "outputs": [],
   "source": [
    "ipfal21.metabolites.ribflv_c"
   ]
  },
  {
   "cell_type": "code",
   "execution_count": null,
   "id": "c91f27ff",
   "metadata": {},
   "outputs": [],
   "source": [
    "ipfal21.exchanges"
   ]
  },
  {
   "cell_type": "code",
   "execution_count": null,
   "id": "b37d189b",
   "metadata": {},
   "outputs": [],
   "source": [
    "meta='ribflv_c'\n",
    "rxn_set = ipfal21.metabolites.get_by_id(meta).reactions\n",
    "rxns = [rxn.id for rxn in rxn_set]\n",
    "print(rxns)"
   ]
  },
  {
   "cell_type": "code",
   "execution_count": null,
   "id": "5d2335a9",
   "metadata": {},
   "outputs": [],
   "source": [
    "['THRGLNexR','SERGLNexR','ALAGLNexR','CYSGLUexR']"
   ]
  },
  {
   "cell_type": "code",
   "execution_count": null,
   "id": "10c99218",
   "metadata": {},
   "outputs": [],
   "source": [
    "ipfal21.reactions.DHPS2.annotation"
   ]
  },
  {
   "cell_type": "code",
   "execution_count": null,
   "id": "fda074d7",
   "metadata": {},
   "outputs": [],
   "source": [
    "exchange_rxns[1]"
   ]
  },
  {
   "cell_type": "code",
   "execution_count": null,
   "id": "96528055-1191-407c-a732-6bb67b4ebe29",
   "metadata": {},
   "outputs": [],
   "source": [
    "print(ipfal21.objective.expression)\n",
    "print(ipfal21.compartments)\n",
    "print(ipfal21.annotation)\n",
    "#del ipfal21"
   ]
  },
  {
   "cell_type": "code",
   "execution_count": null,
   "id": "9a024d08",
   "metadata": {},
   "outputs": [],
   "source": [
    "def biomass_tabel(model):\n",
    "    # find all substrates of the biomass reaction\n",
    "    biomets = model.reactions.biomass.metabolites #r_4041 = biomassreaction 8\n",
    "\n",
    "    s = list(biomets.values()) #stoichiometry of the metabolites in the reaction\n",
    "    m = list(biomets.keys()) # ID of the metabolite in the reaction\n",
    "\n",
    "    # print a table of metabolites and their stoichiometry\n",
    "\n",
    "    metname = [mi.name for mi in m]# names of the metabolite in the reaction\n",
    "\n",
    "    # table printing (this is very messy)\n",
    "\n",
    "    biomass = pd.DataFrame.from_records(map(list, zip(*[m,metname,s])),columns=['ID', 'metabolite','stoichiometry'])\n",
    "    return biomass.sort_values(by='metabolite', ascending='True')"
   ]
  },
  {
   "cell_type": "code",
   "execution_count": null,
   "id": "ca7763aa-60ae-4797-b0d5-bfacaf14e446",
   "metadata": {},
   "outputs": [],
   "source": [
    "# find all substrates of the biomass reaction\n",
    "biomets = ipfal21.reactions.biomass.metabolites #r_4041 = biomassreaction 8\n",
    "\n",
    "s = list(biomets.values()) #stoichiometry of the metabolites in the reaction\n",
    "m = list(biomets.keys()) # ID of the metabolite in the reaction\n",
    "\n",
    "# print a table of metabolites and their stoichiometry\n",
    "\n",
    "metname = [mi.name for mi in m]# names of the metabolite in the reaction\n",
    "\n",
    "# table printing (this is very messy)\n",
    "\n",
    "biomass = pd.DataFrame.from_records(map(list, zip(*[m,metname,s])),columns=['ID', 'metabolite','stoichiometry'])\n",
    "biomass.sort_values(by='metabolite', ascending='True')"
   ]
  },
  {
   "cell_type": "code",
   "execution_count": null,
   "id": "a0cf704f-fb33-4001-bc72-866a3474b83a",
   "metadata": {},
   "outputs": [],
   "source": [
    "ipfal21.metabolites.bm_lipid_c"
   ]
  },
  {
   "cell_type": "code",
   "execution_count": null,
   "id": "07484b6d",
   "metadata": {},
   "outputs": [],
   "source": [
    "ipfal21.metabolites.pheme_fv"
   ]
  },
  {
   "cell_type": "code",
   "execution_count": null,
   "id": "41260598",
   "metadata": {},
   "outputs": [],
   "source": [
    "ipfal21.reactions.HMGLB"
   ]
  },
  {
   "cell_type": "code",
   "execution_count": null,
   "id": "90cceff6-a56f-41a9-bb8e-d116ee1d5971",
   "metadata": {},
   "outputs": [],
   "source": [
    "ipfal21.reactions.lipid_bm"
   ]
  },
  {
   "attachments": {},
   "cell_type": "markdown",
   "id": "bbb570fc",
   "metadata": {},
   "source": [
    "Lipids in biomass consist of:\n",
    "1. acyl-PG 0.2\n",
    "2. diacyl PG (DAG?) 4.0 -> Produced by diacyl-glycerol\n",
    "3. PC 35.0\n",
    "4. PE 18.0\n",
    "5. PG 1.5\n",
    "6. PI 4.25\n",
    "7. Cholesterol 0.519\n",
    "8. Sphingomylin 14.0\n",
    "9. TAG 1.5  \n",
    "**Interpretation**:\n",
    "- Here already discrepancy with Chiappino, also how is there no PS, maybe in one of the other groups included.\n",
    "- Cholesterol value very low\n",
    "- as of now Chiappino seems more reasonable, but Carey model the lipid change might have higher impact\n",
    "\n",
    "#### Questions:\n",
    " Where are these values coming from? \n",
    " -> Gulati 2015 relative values\n",
    " \n",
    " What justification for missing PS? \n",
    " -> PS relatively smaller in Parasite than in uRBC\n",
    "1. maybe no production, but Maier data shows growth\n",
    "2. export out of Parasite to iRBC membrane, thus after saponin lysis not there\n",
    "3. statistical misinterpretation, PS loses out in relativ abundace as PC & PE growth much bigger, thus lower % value in total lipid content\n",
    " "
   ]
  },
  {
   "cell_type": "code",
   "execution_count": null,
   "id": "285bf146",
   "metadata": {
    "collapsed": true
   },
   "outputs": [],
   "source": [
    "df_alex = pd.read_excel('/home/karnet/malaria_lipid_models/Datasets/RBC and asexual Pf lipidome.xlsx', skiprows=1)\n",
    "df_alex.dropna(axis = 0, how = 'all', inplace = True)\n",
    "df_alex.reset_index(drop=True, inplace=True)\n",
    "df_alex.set_index('Unnamed: 0', inplace=True)\n",
    "\n",
    "df_alex"
   ]
  },
  {
   "cell_type": "code",
   "execution_count": null,
   "id": "604a8c7b",
   "metadata": {},
   "outputs": [],
   "source": [
    "index_per_cent = [133,138,143,147,150]\n",
    "df_work_alex = df_alex.iloc[133:].copy()\n",
    "for i in range(4):\n",
    "    phase = df_work_alex.columns[i*3][:-1]\n",
    "    print(phase)\n",
    "    data = df_work_alex.iloc[:,i*3:i*3+3].T\n",
    "    df_work_alex['mean_'+phase] = df_work_alex.iloc[:,i*3:i*3+3].mean(axis=1)\n",
    "    df_work_alex['std_'+phase] = df_work_alex.iloc[:,i*3:i*3+3].std(axis=1)\n",
    "    #df_work_alex['coeff_var'+phase] = df_work_alex['std_'+phase] / df_work_alex['mean_'+phase]\n",
    "df_work_alex"
   ]
  },
  {
   "cell_type": "code",
   "execution_count": null,
   "id": "b97da8af",
   "metadata": {},
   "outputs": [],
   "source": [
    "index_work = np.asarray(index_per_cent)-133\n",
    "per_cent_lipids = []\n",
    "per_cent_lipids.append(df_work_alex.iloc[0:5]['mean_Trophozoite '].values[4])\n",
    "per_cent_lipids.append(df_work_alex.iloc[0:5]['mean_Trophozoite '].values[2]*df_work_alex.iloc[6:10]['mean_Trophozoite '].values/100)\n",
    "per_cent_lipids.append(df_work_alex.iloc[0:5]['mean_Trophozoite '].values[1]*df_work_alex.iloc[11:14]['mean_Trophozoite '].values/100)\n",
    "per_cent_lipids.append(df_work_alex.iloc[0:5]['mean_Trophozoite '].values[3]*df_work_alex.iloc[15:]['mean_Trophozoite '].values/100)\n"
   ]
  },
  {
   "cell_type": "code",
   "execution_count": null,
   "id": "b955bbf9",
   "metadata": {},
   "outputs": [],
   "source": [
    "new_list = []\n",
    "\n",
    "def flatten(temp_list):\n",
    "    for ele in temp_list:\n",
    "        if type(ele) == np.ndarray:\n",
    "            flatten(ele)\n",
    "        else:\n",
    "            new_list.append(ele)\n",
    "    \n",
    "flatten(per_cent_lipids)\n"
   ]
  },
  {
   "cell_type": "code",
   "execution_count": null,
   "id": "19228f7f",
   "metadata": {},
   "outputs": [],
   "source": [
    "lipids = ['chol', 'PC', 'PE','PG','PS','CE','DAG','TAG','Cer','DHSM','SM']\n",
    "new_list"
   ]
  },
  {
   "cell_type": "code",
   "execution_count": null,
   "id": "69422afb-613d-487b-8e7f-a19f03142221",
   "metadata": {
    "tags": []
   },
   "outputs": [],
   "source": [
    "ipfal21.genes.get_by_id('PF3D7_0906500')"
   ]
  },
  {
   "cell_type": "code",
   "execution_count": null,
   "id": "1de9c201",
   "metadata": {},
   "outputs": [],
   "source": [
    "ipfal21.metabolites.chsterol_c.summary()"
   ]
  },
  {
   "cell_type": "code",
   "execution_count": null,
   "id": "f4d48f7d",
   "metadata": {},
   "outputs": [],
   "source": [
    "ipfal21.metabolites.all_ps_c"
   ]
  },
  {
   "cell_type": "code",
   "execution_count": null,
   "id": "788ce660-99a0-4d55-92f1-a91bad1cc74d",
   "metadata": {},
   "outputs": [],
   "source": [
    "ipfal21.optimize()\n",
    "ipfal21.metabolites.get_by_id('all_pe_c').summary()"
   ]
  },
  {
   "cell_type": "code",
   "execution_count": null,
   "id": "211424b7",
   "metadata": {},
   "outputs": [],
   "source": [
    "ipfal21.metabolites.all_pc_c.summary()"
   ]
  },
  {
   "cell_type": "code",
   "execution_count": null,
   "id": "a80aa9bb",
   "metadata": {
    "scrolled": false
   },
   "outputs": [],
   "source": [
    "normi = ipfal21.optimize().objective_value\n",
    "val = 0\n",
    "with ipfal21:\n",
    "    ipfal21.reactions.EX_lipid_c.bounds = (0,0)\n",
    "    ipfal21.optimize()\n",
    "    val = ipfal21.optimize().objective_value\n",
    "    print(ipfal21.metabolites.bm_lipid_c.summary())\n",
    "    print(ipfal21.metabolites.chsterol_c.name)\n",
    "    print(ipfal21.metabolites.chsterol_c.summary())\n",
    "    print(ipfal21.metabolites.atp_c.summary())\n",
    "    \n",
    "print(val/normi)"
   ]
  },
  {
   "cell_type": "code",
   "execution_count": null,
   "id": "c7291af2",
   "metadata": {
    "scrolled": false
   },
   "outputs": [],
   "source": [
    "with ipfal21:\n",
    "    ipfal21.reactions.EX_lipid_c.bounds = (0,0)\n",
    "    ipfal21.optimize()\n",
    "    print(ipfal21.metabolites.apg141_c.summary())\n",
    "    print(ipfal21.metabolites.ptd1ino_c.summary())\n",
    "    print(ipfal21.metabolites.sphmyln_hs_c.summary())\n",
    "    print(ipfal21.metabolites.crm_c.summary())\n",
    "    print(ipfal21.metabolites.sphmyln_c.summary())\n",
    "    print(ipfal21.metabolites.dag_c.summary())\n",
    "    print(ipfal21.metabolites.all_pe_c.summary())\n",
    "    print(ipfal21.metabolites.get_by_id('2agpe120_c').summary())\n",
    "    print(ipfal21.metabolites.get_by_id('12dgr120_c').summary())\n",
    "    print(ipfal21.metabolites.pc_c.summary())\n",
    "    "
   ]
  },
  {
   "cell_type": "code",
   "execution_count": null,
   "id": "33a16326",
   "metadata": {},
   "outputs": [],
   "source": [
    "ipfal21.reactions.CHSTEROLt.annotation"
   ]
  },
  {
   "cell_type": "code",
   "execution_count": null,
   "id": "6e46c104",
   "metadata": {},
   "outputs": [],
   "source": [
    "ipf"
   ]
  },
  {
   "cell_type": "code",
   "execution_count": null,
   "id": "16dee431",
   "metadata": {},
   "outputs": [],
   "source": [
    "ipfal21.reactions.EX_lipid_c"
   ]
  },
  {
   "cell_type": "code",
   "execution_count": null,
   "id": "3b0bd47d-d2fd-4026-9b91-f097e0532736",
   "metadata": {},
   "outputs": [],
   "source": [
    "ipfal21.reactions.pe_prod20"
   ]
  },
  {
   "attachments": {},
   "cell_type": "markdown",
   "id": "04af702a",
   "metadata": {},
   "source": [
    "Each lipid has a pseudo reaction where all possible side chain configurations join to produce one representative head group specific pseudo lipid."
   ]
  },
  {
   "cell_type": "code",
   "execution_count": null,
   "id": "b75f4eb9-0401-453b-8c01-e330551eabfa",
   "metadata": {},
   "outputs": [],
   "source": [
    "ipfal21.reactions.pe_prod1.subsystem"
   ]
  },
  {
   "attachments": {},
   "cell_type": "markdown",
   "id": "86e7f18f",
   "metadata": {},
   "source": [
    "## Idea to access KEGG ID of lipid reactions\n",
    "It would facilitate the comparison of the GEMs and model"
   ]
  },
  {
   "cell_type": "code",
   "execution_count": null,
   "id": "daa7217f-5828-4ac3-9065-d98c1e49cb2d",
   "metadata": {},
   "outputs": [],
   "source": [
    "import json"
   ]
  },
  {
   "cell_type": "code",
   "execution_count": null,
   "id": "3d4fcf33-49e0-4abb-a410-7f99895f3c9b",
   "metadata": {},
   "outputs": [],
   "source": [
    "# Opening JSON file\n",
    "f = open('iPfal21.json')\n",
    "  \n",
    "# returns JSON object as \n",
    "# a dictionary\n",
    "data = json.load(f)"
   ]
  },
  {
   "cell_type": "code",
   "execution_count": null,
   "id": "d1d0248d-2b5e-4654-ba68-00e606a10a17",
   "metadata": {
    "tags": []
   },
   "outputs": [],
   "source": [
    "# search and store for lipid reactions in dict, which have the keyword 'Lipid' in them\n",
    "rxn_ids=[]\n",
    "for reaction in data['reactions']:\n",
    "    try:\n",
    "        if 'Lipid' in reaction['subsystem']:\n",
    "            rxn_ids.append(reaction['id'])\n",
    "    except:\n",
    "        continue\n",
    "len(rxn_ids)"
   ]
  },
  {
   "cell_type": "code",
   "execution_count": null,
   "id": "76e7a286-ea3a-487a-a9c2-6b72b009a818",
   "metadata": {
    "jupyter": {
     "outputs_hidden": true
    },
    "scrolled": true,
    "tags": []
   },
   "outputs": [],
   "source": [
    "# used pandas as easier manipulation\n",
    "df = pd.DataFrame(data['reactions'])\n",
    "df[df.id.isin(rxn_ids)]"
   ]
  },
  {
   "cell_type": "code",
   "execution_count": null,
   "id": "596c2d85-b99b-46e9-aad7-84ccf604be9f",
   "metadata": {},
   "outputs": [],
   "source": [
    "ipfal21.reactions.TPI.annotation['kegg.reaction']"
   ]
  },
  {
   "cell_type": "code",
   "execution_count": null,
   "id": "326f174e-aa8d-49c8-8b08-b074fb85ebb4",
   "metadata": {
    "jupyter": {
     "outputs_hidden": true
    },
    "tags": []
   },
   "outputs": [],
   "source": [
    "reactionstable = pd.read_csv('reactions.csv', header=0)\n",
    "reactionstable"
   ]
  },
  {
   "cell_type": "code",
   "execution_count": null,
   "id": "f87d6cce-3ec2-472c-8e20-aec0c80e820d",
   "metadata": {},
   "outputs": [],
   "source": [
    "#ipfarid = [reactionid[:] for reactionid in table['ID']]#\n",
    "modelsrid = list(reactionstable['ID'])\n",
    "#check if model ids are in iPFA reaction ids since they are shortend\n",
    "#matching = [reaction for reaction in ipfarid if any(modelid in reaction for modelid in modelsrid)]\n",
    "#len(matching)"
   ]
  },
  {
   "cell_type": "code",
   "execution_count": null,
   "id": "b8716edd-1335-44d7-9557-ea194b03ac87",
   "metadata": {
    "jupyter": {
     "outputs_hidden": true
    },
    "tags": []
   },
   "outputs": [],
   "source": [
    "hypoxanthine =['MTAADA','ADEt','dIMP_t','INSt',\n",
    "               'ADNt','GUAt','DADNt4','DGSNt',\n",
    "               'DINt','GSNt','PAPt','XANt']\n",
    "hypoxanthine = hypoxanthine + ['HYXNt']    "
   ]
  },
  {
   "cell_type": "code",
   "execution_count": null,
   "id": "1228545d",
   "metadata": {},
   "outputs": [],
   "source": [
    "for rxn in hypoxanthine:\n",
    "    print(ipfal21.reactions.get_by_id(rxn))"
   ]
  },
  {
   "cell_type": "code",
   "execution_count": null,
   "id": "f3377208",
   "metadata": {},
   "outputs": [],
   "source": [
    "purines = ['HXAN','GUA','DIMP','INS','ADN','DAD_2','DGSN','DIN','GSN','PAP','XAN']\n",
    "for pur in purines:\n",
    "    print(ipfal21.metabolites.get_by_id(pur.lower()+'_c').annotation)"
   ]
  }
 ],
 "metadata": {
  "kernelspec": {
   "display_name": "Python 3 (ipykernel)",
   "language": "python",
   "name": "python3"
  },
  "language_info": {
   "codemirror_mode": {
    "name": "ipython",
    "version": 3
   },
   "file_extension": ".py",
   "mimetype": "text/x-python",
   "name": "python",
   "nbconvert_exporter": "python",
   "pygments_lexer": "ipython3",
   "version": "3.10.6"
  }
 },
 "nbformat": 4,
 "nbformat_minor": 5
}
